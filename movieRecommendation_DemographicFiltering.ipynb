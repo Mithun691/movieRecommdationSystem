{
  "nbformat": 4,
  "nbformat_minor": 0,
  "metadata": {
    "colab": {
      "name": "movieRecommendation_DemographicFiltering.ipynb",
      "provenance": [],
      "collapsed_sections": []
    },
    "kernelspec": {
      "name": "python3",
      "display_name": "Python 3"
    }
  },
  "cells": [
    {
      "cell_type": "markdown",
      "metadata": {
        "id": "5UcVK2UILOl_"
      },
      "source": [
        "#Demographic filtering"
      ]
    },
    {
      "cell_type": "markdown",
      "metadata": {
        "id": "X9m8AQPaLYHe"
      },
      "source": [
        "##Demographic filtering is a technique used in recommender technique which recommends movies taking into consideration the general popularity of a movie.Since each user is different , this approach is considered to be too simple. The basic idea behind this system is that movies that are more popular and critically acclaimed will have a higher probability of being liked by the average audience.(But that's the best u can do when u know nothing in specific about the user,this is typically the case with new subscribers)\n",
        "##So,first lets go through the aspects of demographic filtering "
      ]
    },
    {
      "cell_type": "markdown",
      "metadata": {
        "id": "bT-WY7dDKbMT"
      },
      "source": [
        "###![](https://makesmarttv.net/wp-content/uploads/2014/10/netflix_more_movies.jpg)"
      ]
    },
    {
      "cell_type": "markdown",
      "metadata": {
        "id": "oOEUzMuFOQ1a"
      },
      "source": [
        "So,lets get started we will try doing something like the NETFLIX demographic filtering shown above\n",
        "\n",
        "We would try recommending the top 10 highly rated films,top 10 most popular films etc.\n",
        "\n",
        "Followed by more specific recommendations like top 10 of each genre(comedy,action,children&family movies etc.),followed by 5 best movies of popular actors\n",
        "\n",
        "This doesn't involve any machine learning(though ML techniques would be extensively used in content-based & collaborative filtering) but is mainly about capitalizing on the critical stats from the TMDB ratings data\n",
        "\n",
        "Thus,demographic filtering is about giving crude recommendation knowing nothing about the viewer(which is the case for most new subscribers to NETFLIX or other streaming platforms)\n",
        "\n",
        "\n",
        "\n"
      ]
    },
    {
      "cell_type": "markdown",
      "metadata": {
        "id": "kRx108FNXP3L"
      },
      "source": [
        "##Importing libraries and a peek into the dataset"
      ]
    },
    {
      "cell_type": "code",
      "metadata": {
        "colab": {
          "base_uri": "https://localhost:8080/"
        },
        "id": "mcSK2DXDkAqs",
        "outputId": "adbc3a1e-2710-4596-84e3-399018f0d0b1"
      },
      "source": [
        "from google.colab import drive\n",
        "drive.mount('/content/drive')"
      ],
      "execution_count": null,
      "outputs": [
        {
          "output_type": "stream",
          "text": [
            "Drive already mounted at /content/drive; to attempt to forcibly remount, call drive.mount(\"/content/drive\", force_remount=True).\n"
          ],
          "name": "stdout"
        }
      ]
    },
    {
      "cell_type": "code",
      "metadata": {
        "colab": {
          "base_uri": "https://localhost:8080/"
        },
        "id": "FNQwwd3kKRWF",
        "outputId": "e0e5e319-32b4-42ad-84ae-9c940b11213e"
      },
      "source": [
        "import numpy as np\n",
        "import pandas as pd\n",
        "import matplotlib.pyplot as plt\n",
        "import seaborn as sns\n",
        "movies=pd.read_csv(\"/content/drive/MyDrive/movies_data/tmdb_5000_movies.csv/tmdb_5000_movies.csv\")\n",
        "credits=pd.read_csv(\"/content/drive/MyDrive/movies_data/tmdb_5000_credits.csv/tmdb_5000_credits.csv\")\n",
        "print(movies.shape,credits.shape)"
      ],
      "execution_count": null,
      "outputs": [
        {
          "output_type": "stream",
          "text": [
            "(4803, 20) (4803, 4)\n"
          ],
          "name": "stdout"
        }
      ]
    },
    {
      "cell_type": "code",
      "metadata": {
        "colab": {
          "base_uri": "https://localhost:8080/",
          "height": 702
        },
        "id": "GNYCH5SROD5m",
        "outputId": "35a7e4db-c11e-42e1-cabd-261b849f7ddf"
      },
      "source": [
        "movies.head()"
      ],
      "execution_count": null,
      "outputs": [
        {
          "output_type": "execute_result",
          "data": {
            "text/html": [
              "<div>\n",
              "<style scoped>\n",
              "    .dataframe tbody tr th:only-of-type {\n",
              "        vertical-align: middle;\n",
              "    }\n",
              "\n",
              "    .dataframe tbody tr th {\n",
              "        vertical-align: top;\n",
              "    }\n",
              "\n",
              "    .dataframe thead th {\n",
              "        text-align: right;\n",
              "    }\n",
              "</style>\n",
              "<table border=\"1\" class=\"dataframe\">\n",
              "  <thead>\n",
              "    <tr style=\"text-align: right;\">\n",
              "      <th></th>\n",
              "      <th>budget</th>\n",
              "      <th>genres</th>\n",
              "      <th>homepage</th>\n",
              "      <th>id</th>\n",
              "      <th>keywords</th>\n",
              "      <th>original_language</th>\n",
              "      <th>original_title</th>\n",
              "      <th>overview</th>\n",
              "      <th>popularity</th>\n",
              "      <th>production_companies</th>\n",
              "      <th>production_countries</th>\n",
              "      <th>release_date</th>\n",
              "      <th>revenue</th>\n",
              "      <th>runtime</th>\n",
              "      <th>spoken_languages</th>\n",
              "      <th>status</th>\n",
              "      <th>tagline</th>\n",
              "      <th>title</th>\n",
              "      <th>vote_average</th>\n",
              "      <th>vote_count</th>\n",
              "    </tr>\n",
              "  </thead>\n",
              "  <tbody>\n",
              "    <tr>\n",
              "      <th>0</th>\n",
              "      <td>237000000</td>\n",
              "      <td>[{\"id\": 28, \"name\": \"Action\"}, {\"id\": 12, \"nam...</td>\n",
              "      <td>http://www.avatarmovie.com/</td>\n",
              "      <td>19995</td>\n",
              "      <td>[{\"id\": 1463, \"name\": \"culture clash\"}, {\"id\":...</td>\n",
              "      <td>en</td>\n",
              "      <td>Avatar</td>\n",
              "      <td>In the 22nd century, a paraplegic Marine is di...</td>\n",
              "      <td>150.437577</td>\n",
              "      <td>[{\"name\": \"Ingenious Film Partners\", \"id\": 289...</td>\n",
              "      <td>[{\"iso_3166_1\": \"US\", \"name\": \"United States o...</td>\n",
              "      <td>2009-12-10</td>\n",
              "      <td>2787965087</td>\n",
              "      <td>162.0</td>\n",
              "      <td>[{\"iso_639_1\": \"en\", \"name\": \"English\"}, {\"iso...</td>\n",
              "      <td>Released</td>\n",
              "      <td>Enter the World of Pandora.</td>\n",
              "      <td>Avatar</td>\n",
              "      <td>7.2</td>\n",
              "      <td>11800</td>\n",
              "    </tr>\n",
              "    <tr>\n",
              "      <th>1</th>\n",
              "      <td>300000000</td>\n",
              "      <td>[{\"id\": 12, \"name\": \"Adventure\"}, {\"id\": 14, \"...</td>\n",
              "      <td>http://disney.go.com/disneypictures/pirates/</td>\n",
              "      <td>285</td>\n",
              "      <td>[{\"id\": 270, \"name\": \"ocean\"}, {\"id\": 726, \"na...</td>\n",
              "      <td>en</td>\n",
              "      <td>Pirates of the Caribbean: At World's End</td>\n",
              "      <td>Captain Barbossa, long believed to be dead, ha...</td>\n",
              "      <td>139.082615</td>\n",
              "      <td>[{\"name\": \"Walt Disney Pictures\", \"id\": 2}, {\"...</td>\n",
              "      <td>[{\"iso_3166_1\": \"US\", \"name\": \"United States o...</td>\n",
              "      <td>2007-05-19</td>\n",
              "      <td>961000000</td>\n",
              "      <td>169.0</td>\n",
              "      <td>[{\"iso_639_1\": \"en\", \"name\": \"English\"}]</td>\n",
              "      <td>Released</td>\n",
              "      <td>At the end of the world, the adventure begins.</td>\n",
              "      <td>Pirates of the Caribbean: At World's End</td>\n",
              "      <td>6.9</td>\n",
              "      <td>4500</td>\n",
              "    </tr>\n",
              "    <tr>\n",
              "      <th>2</th>\n",
              "      <td>245000000</td>\n",
              "      <td>[{\"id\": 28, \"name\": \"Action\"}, {\"id\": 12, \"nam...</td>\n",
              "      <td>http://www.sonypictures.com/movies/spectre/</td>\n",
              "      <td>206647</td>\n",
              "      <td>[{\"id\": 470, \"name\": \"spy\"}, {\"id\": 818, \"name...</td>\n",
              "      <td>en</td>\n",
              "      <td>Spectre</td>\n",
              "      <td>A cryptic message from Bond’s past sends him o...</td>\n",
              "      <td>107.376788</td>\n",
              "      <td>[{\"name\": \"Columbia Pictures\", \"id\": 5}, {\"nam...</td>\n",
              "      <td>[{\"iso_3166_1\": \"GB\", \"name\": \"United Kingdom\"...</td>\n",
              "      <td>2015-10-26</td>\n",
              "      <td>880674609</td>\n",
              "      <td>148.0</td>\n",
              "      <td>[{\"iso_639_1\": \"fr\", \"name\": \"Fran\\u00e7ais\"},...</td>\n",
              "      <td>Released</td>\n",
              "      <td>A Plan No One Escapes</td>\n",
              "      <td>Spectre</td>\n",
              "      <td>6.3</td>\n",
              "      <td>4466</td>\n",
              "    </tr>\n",
              "    <tr>\n",
              "      <th>3</th>\n",
              "      <td>250000000</td>\n",
              "      <td>[{\"id\": 28, \"name\": \"Action\"}, {\"id\": 80, \"nam...</td>\n",
              "      <td>http://www.thedarkknightrises.com/</td>\n",
              "      <td>49026</td>\n",
              "      <td>[{\"id\": 849, \"name\": \"dc comics\"}, {\"id\": 853,...</td>\n",
              "      <td>en</td>\n",
              "      <td>The Dark Knight Rises</td>\n",
              "      <td>Following the death of District Attorney Harve...</td>\n",
              "      <td>112.312950</td>\n",
              "      <td>[{\"name\": \"Legendary Pictures\", \"id\": 923}, {\"...</td>\n",
              "      <td>[{\"iso_3166_1\": \"US\", \"name\": \"United States o...</td>\n",
              "      <td>2012-07-16</td>\n",
              "      <td>1084939099</td>\n",
              "      <td>165.0</td>\n",
              "      <td>[{\"iso_639_1\": \"en\", \"name\": \"English\"}]</td>\n",
              "      <td>Released</td>\n",
              "      <td>The Legend Ends</td>\n",
              "      <td>The Dark Knight Rises</td>\n",
              "      <td>7.6</td>\n",
              "      <td>9106</td>\n",
              "    </tr>\n",
              "    <tr>\n",
              "      <th>4</th>\n",
              "      <td>260000000</td>\n",
              "      <td>[{\"id\": 28, \"name\": \"Action\"}, {\"id\": 12, \"nam...</td>\n",
              "      <td>http://movies.disney.com/john-carter</td>\n",
              "      <td>49529</td>\n",
              "      <td>[{\"id\": 818, \"name\": \"based on novel\"}, {\"id\":...</td>\n",
              "      <td>en</td>\n",
              "      <td>John Carter</td>\n",
              "      <td>John Carter is a war-weary, former military ca...</td>\n",
              "      <td>43.926995</td>\n",
              "      <td>[{\"name\": \"Walt Disney Pictures\", \"id\": 2}]</td>\n",
              "      <td>[{\"iso_3166_1\": \"US\", \"name\": \"United States o...</td>\n",
              "      <td>2012-03-07</td>\n",
              "      <td>284139100</td>\n",
              "      <td>132.0</td>\n",
              "      <td>[{\"iso_639_1\": \"en\", \"name\": \"English\"}]</td>\n",
              "      <td>Released</td>\n",
              "      <td>Lost in our world, found in another.</td>\n",
              "      <td>John Carter</td>\n",
              "      <td>6.1</td>\n",
              "      <td>2124</td>\n",
              "    </tr>\n",
              "  </tbody>\n",
              "</table>\n",
              "</div>"
            ],
            "text/plain": [
              "      budget  ... vote_count\n",
              "0  237000000  ...      11800\n",
              "1  300000000  ...       4500\n",
              "2  245000000  ...       4466\n",
              "3  250000000  ...       9106\n",
              "4  260000000  ...       2124\n",
              "\n",
              "[5 rows x 20 columns]"
            ]
          },
          "metadata": {
            "tags": []
          },
          "execution_count": 3
        }
      ]
    },
    {
      "cell_type": "code",
      "metadata": {
        "colab": {
          "base_uri": "https://localhost:8080/",
          "height": 195
        },
        "id": "lJf4u8sHVbbd",
        "outputId": "dd1b0308-178f-401d-f1dc-452beb508142"
      },
      "source": [
        "credits.head()"
      ],
      "execution_count": null,
      "outputs": [
        {
          "output_type": "execute_result",
          "data": {
            "text/html": [
              "<div>\n",
              "<style scoped>\n",
              "    .dataframe tbody tr th:only-of-type {\n",
              "        vertical-align: middle;\n",
              "    }\n",
              "\n",
              "    .dataframe tbody tr th {\n",
              "        vertical-align: top;\n",
              "    }\n",
              "\n",
              "    .dataframe thead th {\n",
              "        text-align: right;\n",
              "    }\n",
              "</style>\n",
              "<table border=\"1\" class=\"dataframe\">\n",
              "  <thead>\n",
              "    <tr style=\"text-align: right;\">\n",
              "      <th></th>\n",
              "      <th>movie_id</th>\n",
              "      <th>title</th>\n",
              "      <th>cast</th>\n",
              "      <th>crew</th>\n",
              "    </tr>\n",
              "  </thead>\n",
              "  <tbody>\n",
              "    <tr>\n",
              "      <th>0</th>\n",
              "      <td>19995</td>\n",
              "      <td>Avatar</td>\n",
              "      <td>[{\"cast_id\": 242, \"character\": \"Jake Sully\", \"...</td>\n",
              "      <td>[{\"credit_id\": \"52fe48009251416c750aca23\", \"de...</td>\n",
              "    </tr>\n",
              "    <tr>\n",
              "      <th>1</th>\n",
              "      <td>285</td>\n",
              "      <td>Pirates of the Caribbean: At World's End</td>\n",
              "      <td>[{\"cast_id\": 4, \"character\": \"Captain Jack Spa...</td>\n",
              "      <td>[{\"credit_id\": \"52fe4232c3a36847f800b579\", \"de...</td>\n",
              "    </tr>\n",
              "    <tr>\n",
              "      <th>2</th>\n",
              "      <td>206647</td>\n",
              "      <td>Spectre</td>\n",
              "      <td>[{\"cast_id\": 1, \"character\": \"James Bond\", \"cr...</td>\n",
              "      <td>[{\"credit_id\": \"54805967c3a36829b5002c41\", \"de...</td>\n",
              "    </tr>\n",
              "    <tr>\n",
              "      <th>3</th>\n",
              "      <td>49026</td>\n",
              "      <td>The Dark Knight Rises</td>\n",
              "      <td>[{\"cast_id\": 2, \"character\": \"Bruce Wayne / Ba...</td>\n",
              "      <td>[{\"credit_id\": \"52fe4781c3a36847f81398c3\", \"de...</td>\n",
              "    </tr>\n",
              "    <tr>\n",
              "      <th>4</th>\n",
              "      <td>49529</td>\n",
              "      <td>John Carter</td>\n",
              "      <td>[{\"cast_id\": 5, \"character\": \"John Carter\", \"c...</td>\n",
              "      <td>[{\"credit_id\": \"52fe479ac3a36847f813eaa3\", \"de...</td>\n",
              "    </tr>\n",
              "  </tbody>\n",
              "</table>\n",
              "</div>"
            ],
            "text/plain": [
              "   movie_id  ...                                               crew\n",
              "0     19995  ...  [{\"credit_id\": \"52fe48009251416c750aca23\", \"de...\n",
              "1       285  ...  [{\"credit_id\": \"52fe4232c3a36847f800b579\", \"de...\n",
              "2    206647  ...  [{\"credit_id\": \"54805967c3a36829b5002c41\", \"de...\n",
              "3     49026  ...  [{\"credit_id\": \"52fe4781c3a36847f81398c3\", \"de...\n",
              "4     49529  ...  [{\"credit_id\": \"52fe479ac3a36847f813eaa3\", \"de...\n",
              "\n",
              "[5 rows x 4 columns]"
            ]
          },
          "metadata": {
            "tags": []
          },
          "execution_count": 4
        }
      ]
    },
    {
      "cell_type": "markdown",
      "metadata": {
        "id": "ukP1fLLxViGW"
      },
      "source": [
        "Lets make note of the key features in both datsets:\n",
        "\n",
        "1)genres\n",
        "\n",
        "2)cast\n",
        "\n",
        "3)popularity\n",
        "\n",
        "2)average rating\n",
        "\n",
        "3)number of votes"
      ]
    },
    {
      "cell_type": "markdown",
      "metadata": {
        "id": "WSJXxRQ4XIOh"
      },
      "source": [
        "##Data-preprocessing"
      ]
    },
    {
      "cell_type": "markdown",
      "metadata": {
        "id": "AiwOj3lrXeU1"
      },
      "source": [
        "Lets make the things simple by discarding all other features and merging both the datasets"
      ]
    },
    {
      "cell_type": "markdown",
      "metadata": {
        "id": "zipKpst0cTKJ"
      },
      "source": [
        "###Merging the datsets"
      ]
    },
    {
      "cell_type": "code",
      "metadata": {
        "colab": {
          "base_uri": "https://localhost:8080/"
        },
        "id": "ip6Hsc0zVfC0",
        "outputId": "7d4d2b7e-ca48-4861-cc83-827a4d7f0cb4"
      },
      "source": [
        "#rename movie-id to id so as to merge both on the id\n",
        "credits.rename(columns={\"movie_id\":\"id\"},inplace=True)\n",
        "print(credits.columns)"
      ],
      "execution_count": null,
      "outputs": [
        {
          "output_type": "stream",
          "text": [
            "Index(['id', 'title', 'cast', 'crew'], dtype='object')\n"
          ],
          "name": "stdout"
        }
      ]
    },
    {
      "cell_type": "code",
      "metadata": {
        "colab": {
          "base_uri": "https://localhost:8080/"
        },
        "id": "7P5sPGCJYIey",
        "outputId": "4c09275f-a924-4027-dd0b-fa743c59805c"
      },
      "source": [
        "movies= movies.merge(credits,on='id')\n",
        "print(movies.shape)\n",
        "movies.columns"
      ],
      "execution_count": null,
      "outputs": [
        {
          "output_type": "stream",
          "text": [
            "(4803, 23)\n"
          ],
          "name": "stdout"
        },
        {
          "output_type": "execute_result",
          "data": {
            "text/plain": [
              "Index(['budget', 'genres', 'homepage', 'id', 'keywords', 'original_language',\n",
              "       'original_title', 'overview', 'popularity', 'production_companies',\n",
              "       'production_countries', 'release_date', 'revenue', 'runtime',\n",
              "       'spoken_languages', 'status', 'tagline', 'title_x', 'vote_average',\n",
              "       'vote_count', 'title_y', 'cast', 'crew'],\n",
              "      dtype='object')"
            ]
          },
          "metadata": {
            "tags": []
          },
          "execution_count": 6
        }
      ]
    },
    {
      "cell_type": "markdown",
      "metadata": {
        "id": "KsDOJj_nZVvh"
      },
      "source": [
        "Having merged both datasets let's discard the less useful features"
      ]
    },
    {
      "cell_type": "code",
      "metadata": {
        "colab": {
          "base_uri": "https://localhost:8080/"
        },
        "id": "4LifoE_AZLmQ",
        "outputId": "00403c62-91d0-40e0-d434-ce85ac12f26f"
      },
      "source": [
        "relevant_cols=[\"id\",\"title_x\",\"genres\",\"popularity\",\"vote_average\",\"vote_count\",\"cast\"]\n",
        "movies=movies.loc[:,relevant_cols]\n",
        "movies.shape"
      ],
      "execution_count": null,
      "outputs": [
        {
          "output_type": "execute_result",
          "data": {
            "text/plain": [
              "(4803, 7)"
            ]
          },
          "metadata": {
            "tags": []
          },
          "execution_count": 7
        }
      ]
    },
    {
      "cell_type": "code",
      "metadata": {
        "colab": {
          "base_uri": "https://localhost:8080/"
        },
        "id": "0jAyn3PRaqGf",
        "outputId": "8861a00e-e309-4483-dcf6-cdc4085f4de0"
      },
      "source": [
        "movies.rename(columns={\"title_x\":\"title\",\"vote_average\":\"rating\"},inplace=True)\n",
        "movies.columns"
      ],
      "execution_count": null,
      "outputs": [
        {
          "output_type": "execute_result",
          "data": {
            "text/plain": [
              "Index(['id', 'title', 'genres', 'popularity', 'rating', 'vote_count', 'cast'], dtype='object')"
            ]
          },
          "metadata": {
            "tags": []
          },
          "execution_count": 8
        }
      ]
    },
    {
      "cell_type": "markdown",
      "metadata": {
        "id": "me_VCjcTbz3J"
      },
      "source": [
        "###The data in genres and cast columns are strings,let's attempt to understand them and process these data into lists of genres and actors respectively"
      ]
    },
    {
      "cell_type": "code",
      "metadata": {
        "colab": {
          "base_uri": "https://localhost:8080/"
        },
        "id": "BoYVSKTlbKvs",
        "outputId": "067b378e-e0e8-4cb7-97c1-4ed167f42f34"
      },
      "source": [
        "#Lets pick row 100 and analyse its genres & cast columns\n",
        "row_id=100\n",
        "print(movies.loc[row_id,\"title\"])\n",
        "print(movies.loc[row_id,\"genres\"],'\\n',movies.loc[row_id,\"cast\"])"
      ],
      "execution_count": null,
      "outputs": [
        {
          "output_type": "stream",
          "text": [
            "The Curious Case of Benjamin Button\n",
            "[{\"id\": 14, \"name\": \"Fantasy\"}, {\"id\": 18, \"name\": \"Drama\"}, {\"id\": 53, \"name\": \"Thriller\"}, {\"id\": 9648, \"name\": \"Mystery\"}, {\"id\": 10749, \"name\": \"Romance\"}] \n",
            " [{\"cast_id\": 4, \"character\": \"Daisy\", \"credit_id\": \"52fe43e2c3a36847f807632b\", \"gender\": 1, \"id\": 112, \"name\": \"Cate Blanchett\", \"order\": 0}, {\"cast_id\": 5, \"character\": \"Benjamin Button\", \"credit_id\": \"52fe43e2c3a36847f807632f\", \"gender\": 2, \"id\": 287, \"name\": \"Brad Pitt\", \"order\": 1}, {\"cast_id\": 6, \"character\": \"Elizabeth Abbott\", \"credit_id\": \"52fe43e2c3a36847f8076333\", \"gender\": 1, \"id\": 3063, \"name\": \"Tilda Swinton\", \"order\": 2}, {\"cast_id\": 10, \"character\": \"Caroline\", \"credit_id\": \"52fe43e2c3a36847f8076343\", \"gender\": 1, \"id\": 15887, \"name\": \"Julia Ormond\", \"order\": 3}, {\"cast_id\": 7, \"character\": \"Daisy Age 7\", \"credit_id\": \"52fe43e2c3a36847f8076337\", \"gender\": 1, \"id\": 18050, \"name\": \"Elle Fanning\", \"order\": 4}, {\"cast_id\": 183, \"character\": \"Daisy Age 10\", \"credit_id\": \"56ec883a9251414dba0022af\", \"gender\": 1, \"id\": 219666, \"name\": \"Madisen Beaty\", \"order\": 5}, {\"cast_id\": 8, \"character\": \"Thomas Button\", \"credit_id\": \"52fe43e2c3a36847f807633b\", \"gender\": 2, \"id\": 973, \"name\": \"Jason Flemyng\", \"order\": 6}, {\"cast_id\": 9, \"character\": \"Monsieur Gateau\", \"credit_id\": \"52fe43e2c3a36847f807633f\", \"gender\": 2, \"id\": 13550, \"name\": \"Elias Koteas\", \"order\": 7}, {\"cast_id\": 11, \"character\": \"Queenie\", \"credit_id\": \"52fe43e2c3a36847f8076347\", \"gender\": 1, \"id\": 40036, \"name\": \"Taraji P. Henson\", \"order\": 8}, {\"cast_id\": 13, \"character\": \"Pleasant Curtis\", \"credit_id\": \"52fe43e2c3a36847f807634f\", \"gender\": 2, \"id\": 40039, \"name\": \"Josh Stewart\", \"order\": 9}, {\"cast_id\": 15, \"character\": \"Dorothy Baker\", \"credit_id\": \"52fe43e2c3a36847f8076359\", \"gender\": 1, \"id\": 58953, \"name\": \"Faune A. Chambers\", \"order\": 10}, {\"cast_id\": 16, \"character\": \"Blanche Devereux\", \"credit_id\": \"52fe43e2c3a36847f807635d\", \"gender\": 1, \"id\": 230995, \"name\": \"Donna DuPlantier\", \"order\": 11}, {\"cast_id\": 17, \"character\": \"Martin Gateau\", \"credit_id\": \"52fe43e2c3a36847f8076361\", \"gender\": 2, \"id\": 1074186, \"name\": \"Jacob Tolano\", \"order\": 12}, {\"cast_id\": 19, \"character\": \"Teddy Roosevelt\", \"credit_id\": \"52fe43e2c3a36847f8076369\", \"gender\": 0, \"id\": 231274, \"name\": \"Ed Metzger\", \"order\": 13}, {\"cast_id\": 20, \"character\": \"Priest Giving Last Rites\", \"credit_id\": \"52fe43e2c3a36847f807636d\", \"gender\": 0, \"id\": 1074187, \"name\": \"Danny Vinson\", \"order\": 14}, {\"cast_id\": 21, \"character\": \"Doctor at Benjamin's Birth\", \"credit_id\": \"52fe43e2c3a36847f8076371\", \"gender\": 2, \"id\": 60875, \"name\": \"David Jensen\", \"order\": 15}, {\"cast_id\": 22, \"character\": \"Caroline Button\", \"credit_id\": \"52fe43e2c3a36847f8076375\", \"gender\": 1, \"id\": 203867, \"name\": \"Joeanna Sayler\", \"order\": 16}, {\"cast_id\": 180, \"character\": \"Robert Williams\", \"credit_id\": \"56ec756b9251415e620035ae\", \"gender\": 2, \"id\": 52483, \"name\": \"Rus Blackwell\", \"order\": 17}, {\"cast_id\": 23, \"character\": \"Tizzy\", \"credit_id\": \"52fe43e2c3a36847f8076379\", \"gender\": 2, \"id\": 932967, \"name\": \"Mahershala Ali\", \"order\": 18}, {\"cast_id\": 191, \"character\": \"David\", \"credit_id\": \"573e41e99251413fdc000768\", \"gender\": 2, \"id\": 928295, \"name\": \"Adrian Armas\", \"order\": 19}, {\"cast_id\": 24, \"character\": \"Grandma Fuller\", \"credit_id\": \"52fe43e2c3a36847f807637d\", \"gender\": 1, \"id\": 17184, \"name\": \"Phyllis Somerville\", \"order\": 20}, {\"cast_id\": 177, \"character\": \"Preacher\", \"credit_id\": \"56ec6d279251415e59003162\", \"gender\": 2, \"id\": 101847, \"name\": \"Lance E. Nichols\", \"order\": 21}, {\"cast_id\": 194, \"character\": \"Walter Abbott\", \"credit_id\": \"58cec8f7c3a368508c025b00\", \"gender\": 2, \"id\": 1235414, \"name\": \"David Ross Paterson\", \"order\": 22}, {\"cast_id\": 181, \"character\": \"Mrs. Hollister\", \"credit_id\": \"56ec7f67c3a3682253003c55\", \"gender\": 1, \"id\": 1219313, \"name\": \"Fiona Hale\", \"order\": 23}, {\"cast_id\": 184, \"character\": \"Mrs. Horton\", \"credit_id\": \"56ec89f492514143fc003897\", \"gender\": 1, \"id\": 60388, \"name\": \"Marion Zinser\", \"order\": 24}, {\"cast_id\": 189, \"character\": \"Mrs. Maple\", \"credit_id\": \"56ec8eafc3a368224e003c66\", \"gender\": 1, \"id\": 44063, \"name\": \"Edith Ivey\", \"order\": 25}, {\"cast_id\": 182, \"character\": \"Dr. Rose\", \"credit_id\": \"56ec8759c3a36822650037c5\", \"gender\": 2, \"id\": 75325, \"name\": \"Patrick Thomas O'Brien\", \"order\": 26}, {\"cast_id\": 187, \"character\": \"Mr. Daws\", \"credit_id\": \"56ec8e86c3a3682253003ebe\", \"gender\": 2, \"id\": 86812, \"name\": \"Ted Manson\", \"order\": 27}, {\"cast_id\": 188, \"character\": \"Young Mr. Daws\", \"credit_id\": \"56ec8e9c9251414408003808\", \"gender\": 2, \"id\": 60536, \"name\": \"Clay Cullen\", \"order\": 28}, {\"cast_id\": 185, \"character\": \"Benjamin 1928-31\", \"credit_id\": \"56ec8af892514144010038f1\", \"gender\": 2, \"id\": 1056117, \"name\": \"Peter Donald Badalamenti II\", \"order\": 29}, {\"cast_id\": 186, \"character\": \"Sybil Wagner\", \"credit_id\": \"56ec8dcbc3a3682251003fac\", \"gender\": 1, \"id\": 1592644, \"name\": \"Paula Gray\", \"order\": 30}, {\"cast_id\": 193, \"character\": \"Captain Mike\", \"credit_id\": \"57e4f699c3a3684225000727\", \"gender\": 2, \"id\": 15440, \"name\": \"Jared Harris\", \"order\": 31}, {\"cast_id\": 18, \"character\": \"Man at Train Station\", \"credit_id\": \"52fe43e2c3a36847f8076365\", \"gender\": 2, \"id\": 60884, \"name\": \"Earl Maddox\", \"order\": 32}, {\"cast_id\": 12, \"character\": \"Ballerina Who Ties Up Shoelace (uncredited)\", \"credit_id\": \"52fe43e2c3a36847f807634b\", \"gender\": 1, \"id\": 40038, \"name\": \"Bianca Chiminello\", \"order\": 33}, {\"cast_id\": 178, \"character\": \"Ballet Dancer (uncredited)\", \"credit_id\": \"56ec731cc3a36822650034be\", \"gender\": 1, \"id\": 1224131, \"name\": \"Emma Degerstedt\", \"order\": 34}, {\"cast_id\": 179, \"character\": \"Woman Kissing Benjamin (uncredited)\", \"credit_id\": \"56ec73a6c3a3682256003905\", \"gender\": 1, \"id\": 1169284, \"name\": \"Megan Brown\", \"order\": 35}, {\"cast_id\": 192, \"character\": \"The Grumpy Sailor (uncredited)\", \"credit_id\": \"57591733925141754800087e\", \"gender\": 2, \"id\": 1503756, \"name\": \"Clay Chamberlin\", \"order\": 36}]\n"
          ],
          "name": "stdout"
        }
      ]
    },
    {
      "cell_type": "code",
      "metadata": {
        "id": "plzaFr3_nc5y"
      },
      "source": [
        "#The genre and cast are string type first lets make functions to convert them to dictionaries\n",
        "def process_genre(s):\n",
        "  id_str=s.split(\", \")[0]\n",
        "  genre_str=s.split(\", \")[-1]\n",
        "  genre={}\n",
        "  genre[\"id\"]=int(id_str.split(':')[-1])\n",
        "  genre[\"name\"]=(genre_str.split(':')[-1])[2:-1]\n",
        "  return genre\n",
        "\n",
        "def get_genres(s):\n",
        "  if(len(s)<5):\n",
        "    return {}\n",
        "  genres=s.split(\"}, {\")\n",
        "  genres[0]=genres[0][2:]\n",
        "  genres[-1]=genres[-1][:-2]\n",
        "  genre_list=[]\n",
        "  for genre in genres:\n",
        "    genre_list.append(process_genre(genre))\n",
        "  return genre_list\n",
        "\n",
        "def process_actor(s):\n",
        "  id_str=s.split(\", \")[0]\n",
        "  actor_str=s.split(\", \")[-2]\n",
        "  actor={}\n",
        "  actor[\"id\"]=int(id_str.split(':')[-1])\n",
        "  actor[\"name\"]=(actor_str.split(':')[-1])[2:-1]\n",
        "  return actor\n",
        "\n",
        "def get_cast(s):\n",
        "  if(len(s)<5):\n",
        "    return {}\n",
        "  cast=s.split(\"}, {\")\n",
        "  cast[0]=cast[0][2:]\n",
        "  cast[-1]=cast[-1][:-2]\n",
        "  cast_list=[]\n",
        "  for actor in cast:\n",
        "    cast_list.append(process_actor(actor))\n",
        "  return cast_list"
      ],
      "execution_count": null,
      "outputs": []
    },
    {
      "cell_type": "code",
      "metadata": {
        "colab": {
          "base_uri": "https://localhost:8080/"
        },
        "id": "WZhXqtNuqJhG",
        "outputId": "1ce36867-febd-4682-ccda-6841655756dc"
      },
      "source": [
        "#Lets test these functions\n",
        "import random\n",
        "row_id=int(random.random()*movies.shape[0]//1)      #choose a random movie\n",
        "print(movies.loc[row_id,\"title\"])\n",
        "Genres=get_genres(movies.loc[row_id,\"genres\"])\n",
        "print(\"GENRES\")\n",
        "for idx,genre in enumerate(Genres):\n",
        "  print((idx+1),':',genre)\n",
        "Cast=get_cast(movies.loc[row_id,\"cast\"])\n",
        "print(\"CAST\")\n",
        "for idx,actor in enumerate(Cast):\n",
        "  print((idx+1),':',actor)"
      ],
      "execution_count": null,
      "outputs": [
        {
          "output_type": "stream",
          "text": [
            "Mr. Smith Goes to Washington\n",
            "GENRES\n",
            "1 : {'id': 35, 'name': 'Comedy'}\n",
            "2 : {'id': 18, 'name': 'Drama'}\n",
            "CAST\n",
            "1 : {'id': 9, 'name': 'James Stewart'}\n",
            "2 : {'id': 8, 'name': 'Jean Arthur'}\n",
            "3 : {'id': 10, 'name': 'Claude Rains'}\n",
            "4 : {'id': 11, 'name': 'Edward Arnold'}\n",
            "5 : {'id': 12, 'name': 'Guy Kibbee'}\n",
            "6 : {'id': 13, 'name': 'Thomas Mitchell'}\n",
            "7 : {'id': 14, 'name': 'Eugene Pallette'}\n",
            "8 : {'id': 15, 'name': 'Beulah Bondi'}\n",
            "9 : {'id': 258, 'name': 'Colin James Mackey'}\n",
            "10 : {'id': 17, 'name': 'Harry Carey'}\n",
            "11 : {'id': 55, 'name': 'H.B. Warner'}\n",
            "12 : {'id': 20, 'name': 'Grant Mitchell'}\n",
            "13 : {'id': 22, 'name': 'Pierre Watkin'}\n",
            "14 : {'id': 21, 'name': 'Porter Hall'}\n",
            "15 : {'id': 56, 'name': 'Astrid Allwyn'}\n",
            "16 : {'id': 19, 'name': 'Ruth Donnelly'}\n",
            "17 : {'id': 23, 'name': 'Charles Lane'}\n",
            "18 : {'id': 24, 'name': 'William Demarest'}\n",
            "19 : {'id': 25, 'name': 'Dick Elliott'}\n",
            "20 : {'id': 198, 'name': 'Russell Simpson'}\n",
            "21 : {'id': 27, 'name': 'Delmar Watson'}\n",
            "22 : {'id': 39, 'name': 'John Russell'}\n",
            "23 : {'id': 47, 'name': 'Frances Gifford'}\n",
            "24 : {'id': 57, 'name': 'Larry Simms'}\n",
            "25 : {'id': 26, 'name': 'Billy Watson'}\n",
            "26 : {'id': 40, 'name': 'Harry Watson'}\n",
            "27 : {'id': 41, 'name': 'Garry Watson'}\n",
            "28 : {'id': 72, 'name': 'Wilson Benge'}\n",
            "29 : {'id': 60, 'name': 'Dickie Jones'}\n",
            "30 : {'id': 58, 'name': 'H.V. Kaltenborn'}\n",
            "31 : {'id': 61, 'name': 'Erville Alderson'}\n",
            "32 : {'id': 188, 'name': 'Frank Puglia'}\n",
            "33 : {'id': 85, 'name': 'Maurice Cass'}\n",
            "34 : {'id': 63, 'name': 'Stanley Andrews'}\n",
            "35 : {'id': 77, 'name': 'Al Bridge'}\n",
            "36 : {'id': 66, 'name': 'Edwin August'}\n",
            "37 : {'id': 93, 'name': 'Edmund Cobb'}\n",
            "38 : {'id': 65, 'name': 'Sam Ash'}\n",
            "39 : {'id': 68, 'name': 'Harry A. Bailey'}\n",
            "40 : {'id': 163, 'name': 'Stanley Mack'}\n",
            "41 : {'id': 71, 'name': 'Brooks Benedict'}\n",
            "42 : {'id': 73, 'name': 'Wade Boteler'}\n",
            "43 : {'id': 43, 'name': 'Dorothy Comingore'}\n",
            "44 : {'id': 44, 'name': 'Chester Conklin'}\n",
            "45 : {'id': 45, 'name': 'Gino Corrado'}\n",
            "46 : {'id': 46, 'name': 'Ann Doran'}\n",
            "47 : {'id': 49, 'name': 'Robert Emmett Keane'}\n",
            "48 : {'id': 50, 'name': 'Matt McHugh'}\n",
            "49 : {'id': 70, 'name': 'Kathryn Bates'}\n",
            "50 : {'id': 67, 'name': 'Frank Austin'}\n",
            "51 : {'id': 64, 'name': 'William Arnold'}\n",
            "52 : {'id': 69, 'name': 'Tommy Baker'}\n",
            "53 : {'id': 52, 'name': 'Robert Sterling'}\n",
            "54 : {'id': 53, 'name': 'Dub Taylor'}\n",
            "55 : {'id': 88, 'name': 'George Chandler'}\n",
            "56 : {'id': 54, 'name': \"Fred 'Snowflake' Toones\"}\n",
            "57 : {'id': 42, 'name': 'Jack Carson'}\n",
            "58 : {'id': 79, 'name': 'Tommy Bupp'}\n",
            "59 : {'id': 90, 'name': 'Dora Clement'}\n",
            "60 : {'id': 51, 'name': 'Bert Moorhouse'}\n",
            "61 : {'id': 74, 'name': 'Harry C. Bradley'}\n",
            "62 : {'id': 75, 'name': 'Lynton Brent'}\n",
            "63 : {'id': 76, 'name': 'Ed Brewer'}\n",
            "64 : {'id': 78, 'name': 'Harlan Briggs'}\n",
            "65 : {'id': 80, 'name': 'Harry Burkhardt'}\n",
            "66 : {'id': 81, 'name': 'Frederick Burton'}\n",
            "67 : {'id': 82, 'name': 'Georgia Caine'}\n",
            "68 : {'id': 83, 'name': 'Ken Carpenter'}\n",
            "69 : {'id': 84, 'name': 'Burr Caruth'}\n",
            "70 : {'id': 86, 'name': 'Allan Cavan'}\n",
            "71 : {'id': 87, 'name': 'Eddy Chandler'}\n",
            "72 : {'id': 89, 'name': 'Davison Clark'}\n",
            "73 : {'id': 91, 'name': 'Richard Clucas'}\n",
            "74 : {'id': 92, 'name': 'Shirley Coates'}\n",
            "75 : {'id': 94, 'name': 'Eddie Coke'}\n",
            "76 : {'id': 95, 'name': 'Hal Cooke'}\n",
            "77 : {'id': 102, 'name': 'Alec Craig'}\n",
            "78 : {'id': 100, 'name': 'Anne Cornwall'}\n",
            "79 : {'id': 96, 'name': 'George Cooper'}\n",
            "80 : {'id': 97, 'name': 'Georgie Cooper'}\n",
            "81 : {'id': 98, 'name': 'Jack Cooper'}\n",
            "82 : {'id': 99, 'name': 'Nick Copeland'}\n",
            "83 : {'id': 107, 'name': 'Vernon Dent'}\n",
            "84 : {'id': 101, 'name': 'Maurice Costello'}\n",
            "85 : {'id': 103, 'name': 'Beatrice Curtis'}\n",
            "86 : {'id': 104, 'name': 'Lew Davis'}\n",
            "87 : {'id': 105, 'name': 'Dulcie Day'}\n",
            "88 : {'id': 106, 'name': 'Wally Dean'}\n",
            "89 : {'id': 234, 'name': 'Harry Depp'}\n",
            "90 : {'id': 121, 'name': 'Byron Foulger'}\n",
            "91 : {'id': 116, 'name': 'Helen Jerome Eddy'}\n",
            "92 : {'id': 118, 'name': 'Douglas Evans'}\n",
            "93 : {'id': 109, 'name': 'Joe Devlin'}\n",
            "94 : {'id': 110, 'name': 'Clyde Dilson'}\n",
            "95 : {'id': 111, 'name': 'John Dilson'}\n",
            "96 : {'id': 112, 'name': 'Neal Dodd'}\n",
            "97 : {'id': 113, 'name': 'Lester Dorr'}\n",
            "98 : {'id': 114, 'name': 'Robert Dudley'}\n",
            "99 : {'id': 115, 'name': 'Edward Earle'}\n",
            "100 : {'id': 117, 'name': 'Jack Egan'}\n",
            "101 : {'id': 119, 'name': 'Eddie Fetherston'}\n",
            "102 : {'id': 120, 'name': 'Mabel Forrest'}\n",
            "103 : {'id': 122, 'name': 'Gladys Gale'}\n",
            "104 : {'id': 123, 'name': 'Jack Gardner'}\n",
            "105 : {'id': 126, 'name': 'Mary Gordon'}\n",
            "106 : {'id': 124, 'name': 'June Gittelson'}\n",
            "107 : {'id': 128, 'name': 'Lorna Gray'}\n",
            "108 : {'id': 131, 'name': 'Harry Hayden'}\n",
            "109 : {'id': 133, 'name': 'Louis Jean Heydt'}\n",
            "110 : {'id': 137, 'name': 'John Ince'}\n",
            "111 : {'id': 140, 'name': 'Frank Jaquet'}\n",
            "112 : {'id': 168, 'name': 'Philo McCullough'}\n",
            "113 : {'id': 149, 'name': 'Wright Kramer'}\n",
            "114 : {'id': 132, 'name': 'Henry Hebert'}\n",
            "115 : {'id': 134, 'name': 'Fred Hoose'}\n",
            "116 : {'id': 147, 'name': 'Richard Kipling'}\n",
            "117 : {'id': 129, 'name': 'Roger Haliday'}\n",
            "118 : {'id': 130, 'name': 'Wilfred Hari'}\n",
            "119 : {'id': 135, 'name': 'Philip Hurlic'}\n",
            "120 : {'id': 136, 'name': 'Olaf Hytten'}\n",
            "121 : {'id': 138, 'name': 'Lloyd Ingraham'}\n",
            "122 : {'id': 139, 'name': 'Mitchell Ingraham'}\n",
            "123 : {'id': 141, 'name': 'Dick Jensen'}\n",
            "124 : {'id': 142, 'name': 'John Lester Johnson'}\n",
            "125 : {'id': 143, 'name': 'Eddie Kane'}\n",
            "126 : {'id': 144, 'name': 'Donald Kerr'}\n",
            "127 : {'id': 145, 'name': 'Milton Kibbee'}\n",
            "128 : {'id': 146, 'name': 'Joe King'}\n",
            "129 : {'id': 148, 'name': 'Evalyn Knapp'}\n",
            "130 : {'id': 150, 'name': 'Paul Kruger'}\n",
            "131 : {'id': 151, 'name': 'Bobby Larson'}\n",
            "132 : {'id': 152, 'name': 'Billy Lechner'}\n",
            "133 : {'id': 160, 'name': 'Jackie Lowe'}\n",
            "134 : {'id': 153, 'name': 'P.H. Levy'}\n",
            "135 : {'id': 154, 'name': 'Vera Lewis'}\n",
            "136 : {'id': 155, 'name': 'Jack Lindquist'}\n",
            "137 : {'id': 156, 'name': 'George Lloyd'}\n",
            "138 : {'id': 157, 'name': 'Arthur Loft'}\n",
            "139 : {'id': 159, 'name': 'Jack Low'}\n",
            "140 : {'id': 161, 'name': 'Jimmie Lucas'}\n",
            "141 : {'id': 164, 'name': 'Mary MacLaren'}\n",
            "142 : {'id': 165, 'name': 'Hank Mann'}\n",
            "143 : {'id': 166, 'name': 'Margaret Mann'}\n",
            "144 : {'id': 167, 'name': 'Eric Mayne'}\n",
            "145 : {'id': 169, 'name': 'Ralph McCullough'}\n",
            "146 : {'id': 170, 'name': 'George McKay'}\n",
            "147 : {'id': 171, 'name': 'Lafe McKee'}\n",
            "148 : {'id': 210, 'name': 'Ben Taggart'}\n",
            "149 : {'id': 182, 'name': 'Field Norton'}\n",
            "150 : {'id': 162, 'name': 'Wilfred Lucas'}\n",
            "151 : {'id': 172, 'name': 'Sammy McKim'}\n",
            "152 : {'id': 173, 'name': 'James McNamara'}\n",
            "153 : {'id': 180, 'name': 'William Newell'}\n",
            "154 : {'id': 174, 'name': 'Robert Middlemass'}\n",
            "155 : {'id': 175, 'name': 'James Millican'}\n",
            "156 : {'id': 176, 'name': 'Howard M. Mitchell'}\n",
            "157 : {'id': 177, 'name': 'Charles R. Moore'}\n",
            "158 : {'id': 178, 'name': 'Gene Morgan'}\n",
            "159 : {'id': 179, 'name': 'Robert Morgan'}\n",
            "160 : {'id': 181, 'name': 'Ray Nichols'}\n",
            "161 : {'id': 183, 'name': 'Alex Novinsky'}\n",
            "162 : {'id': 184, 'name': \"Frank O'Connor\"}\n",
            "163 : {'id': 185, 'name': 'Frank Otto'}\n",
            "164 : {'id': 186, 'name': 'Joe Palma'}\n",
            "165 : {'id': 189, 'name': 'Spencer Quinn'}\n",
            "166 : {'id': 190, 'name': 'Tom Quinn'}\n",
            "167 : {'id': 191, 'name': 'Ed Randolph'}\n",
            "168 : {'id': 192, 'name': 'Charles Regan'}\n",
            "169 : {'id': 193, 'name': 'Jack Rice'}\n",
            "170 : {'id': 201, 'name': 'Wyndham Standing'}\n",
            "171 : {'id': 212, 'name': 'Ferris Taylor'}\n",
            "172 : {'id': 194, 'name': 'Jack Richardson'}\n",
            "173 : {'id': 199, 'name': 'Walter Soderling'}\n",
            "174 : {'id': 200, 'name': 'Harry Stafford'}\n",
            "175 : {'id': 218, 'name': 'Victor Travers'}\n",
            "176 : {'id': 207, 'name': 'Carl Stockdale'}\n",
            "177 : {'id': 257, 'name': 'Robert Walker'}\n",
            "178 : {'id': 195, 'name': 'Henry Roquemore'}\n",
            "179 : {'id': 205, 'name': 'Craig Stevens'}\n",
            "180 : {'id': 202, 'name': 'Paul Stanton'}\n",
            "181 : {'id': 196, 'name': 'Johnny Russell'}\n",
            "182 : {'id': 197, 'name': 'Walter Sande'}\n",
            "183 : {'id': 216, 'name': 'Frank M. Thomas'}\n",
            "184 : {'id': 208, 'name': 'Harry Strang'}\n",
            "185 : {'id': 213, 'name': 'Harry Tenbrook'}\n",
            "186 : {'id': 230, 'name': 'Dave Willock'}\n",
            "187 : {'id': 229, 'name': 'Lloyd Whitlock'}\n",
            "188 : {'id': 220, 'name': 'John Tyrrell'}\n",
            "189 : {'id': 221, 'name': 'Frederick Vroom'}\n",
            "190 : {'id': 209, 'name': 'Charles Sullivan'}\n",
            "191 : {'id': 214, 'name': 'Arthur Thalasso'}\n",
            "192 : {'id': 215, 'name': 'Edward Thomas'}\n",
            "193 : {'id': 219, 'name': 'Laura Treadwell'}\n",
            "194 : {'id': 217, 'name': 'Layne Tom Jr.'}\n",
            "195 : {'id': 226, 'name': 'Myonne Walsh'}\n",
            "196 : {'id': 228, 'name': 'Billy Wayne'}\n",
            "197 : {'id': 224, 'name': 'Max Waizmann'}\n",
            "198 : {'id': 227, 'name': 'John Ward'}\n",
            "199 : {'id': 158, 'name': 'Jane Loofbourrow'}\n",
            "200 : {'id': 187, 'name': 'Blanche Payson'}\n",
            "201 : {'id': 211, 'name': 'Emma Tansey'}\n",
            "202 : {'id': 222, 'name': 'Bess Wade'}\n",
            "203 : {'id': 231, 'name': 'Florence Wix'}\n",
            "204 : {'id': 232, 'name': 'Eleanor Wood'}\n",
            "205 : {'id': 127, 'name': 'Jesse Graves'}\n",
            "206 : {'id': 125, 'name': 'Gus Glassmire'}\n",
            "207 : {'id': 203, 'name': 'Larry Steers'}\n",
            "208 : {'id': 206, 'name': 'Landers Stevens'}\n",
            "209 : {'id': 233, 'name': 'William Worthington'}\n",
            "210 : {'id': 235, 'name': 'Edward Biby'}\n",
            "211 : {'id': 204, 'name': 'Count Stefenelli'}\n",
            "212 : {'id': 223, 'name': 'David Wade'}\n",
            "213 : {'id': 259, 'name': 'Frank McLure'}\n"
          ],
          "name": "stdout"
        }
      ]
    },
    {
      "cell_type": "markdown",
      "metadata": {
        "id": "xuwOBaR6KyUf"
      },
      "source": [
        "Seems to be working fine"
      ]
    },
    {
      "cell_type": "markdown",
      "metadata": {
        "id": "b8c6Fu2BSC0G"
      },
      "source": [
        "##Data visualization"
      ]
    },
    {
      "cell_type": "code",
      "metadata": {
        "colab": {
          "base_uri": "https://localhost:8080/",
          "height": 407
        },
        "id": "HoxgEJuGSG2q",
        "outputId": "d425c5ad-ab9f-4415-efb3-e0587691684e"
      },
      "source": [
        "plt.figure(figsize=(8,6))\r\n",
        "plt.hist(movies['vote_count'],bins=20,color='c')\r\n",
        "plt.title(\"Histogram of vote count\")\r\n",
        "plt.ylabel(\"Vote count\")"
      ],
      "execution_count": null,
      "outputs": [
        {
          "output_type": "execute_result",
          "data": {
            "text/plain": [
              "Text(0, 0.5, 'Vote count')"
            ]
          },
          "metadata": {
            "tags": []
          },
          "execution_count": 12
        },
        {
          "output_type": "display_data",
          "data": {
            "image/png": "[encoded data removed]",
            "text/plain": [
              "<Figure size 576x432 with 1 Axes>"
            ]
          },
          "metadata": {
            "tags": [],
            "needs_background": "light"
          }
        }
      ]
    },
    {
      "cell_type": "markdown",
      "metadata": {
        "id": "oo9Y-YiqXYl2"
      },
      "source": [
        "Thus,most of the movies have less than 1000 rating votes"
      ]
    },
    {
      "cell_type": "code",
      "metadata": {
        "colab": {
          "base_uri": "https://localhost:8080/",
          "height": 421
        },
        "id": "dauBzQ8NTloF",
        "outputId": "b35227cf-3028-467f-9c00-7bb6b2d88958"
      },
      "source": [
        "plt.figure(figsize=(8,6))\r\n",
        "plt.grid(2)\r\n",
        "plt.scatter(movies[\"rating\"],movies[\"popularity\"],c='r')\r\n",
        "plt.xlabel(\"ratings\")\r\n",
        "plt.ylabel(\"popularity\")\r\n",
        "plt.title(\"popularity v/s ratings\")"
      ],
      "execution_count": null,
      "outputs": [
        {
          "output_type": "execute_result",
          "data": {
            "text/plain": [
              "Text(0.5, 1.0, 'popularity v/s ratings')"
            ]
          },
          "metadata": {
            "tags": []
          },
          "execution_count": 13
        },
        {
          "output_type": "display_data",
          "data": {
            "image/png": "[encoded data removed]",
            "text/plain": [
              "<Figure size 576x432 with 1 Axes>"
            ]
          },
          "metadata": {
            "tags": [],
            "needs_background": "light"
          }
        }
      ]
    },
    {
      "cell_type": "markdown",
      "metadata": {
        "id": "XwyatJD8XfJm"
      },
      "source": [
        "There is a positive correlation between ratings and popularity"
      ]
    },
    {
      "cell_type": "markdown",
      "metadata": {
        "id": "OsaWCVRSK2Gq"
      },
      "source": [
        "##Demographic filtering"
      ]
    },
    {
      "cell_type": "markdown",
      "metadata": {
        "id": "tFxDZ9yIK7h4"
      },
      "source": [
        "###Top 10 most popular movies"
      ]
    },
    {
      "cell_type": "code",
      "metadata": {
        "colab": {
          "base_uri": "https://localhost:8080/"
        },
        "id": "0aR7mmSdJKbx",
        "outputId": "9c29ff21-08dd-4acb-ac3d-d8bceb589bee"
      },
      "source": [
        "#Lets look at movies with vote_count greater than the 90th percentile or quantile\n",
        "#As others aren't really popular and their popularity score is most likely subject to high variance\n",
        "threshold_vote= movies['vote_count'].quantile(0.9)\n",
        "print(threshold_vote)\n",
        "#Basically the 90th quantile of vote_count "
      ],
      "execution_count": null,
      "outputs": [
        {
          "output_type": "stream",
          "text": [
            "1838.4000000000015\n"
          ],
          "name": "stdout"
        }
      ]
    },
    {
      "cell_type": "markdown",
      "metadata": {
        "id": "fphWtp7VMqjY"
      },
      "source": [
        "Now lets look at the top 10 movies with highest popularity among movies with vote_count greater than the threshold"
      ]
    },
    {
      "cell_type": "code",
      "metadata": {
        "colab": {
          "base_uri": "https://localhost:8080/",
          "height": 343
        },
        "id": "aS-jjzv9NIer",
        "outputId": "de2628c5-ba52-430a-ce47-a969559e9109"
      },
      "source": [
        "popular_picks=list(movies[movies['vote_count']>threshold_vote].nlargest(10,'popularity').loc[:,'title'])\n",
        "movies[movies['vote_count']>threshold_vote].nlargest(10,'popularity')"
      ],
      "execution_count": null,
      "outputs": [
        {
          "output_type": "execute_result",
          "data": {
            "text/html": [
              "<div>\n",
              "<style scoped>\n",
              "    .dataframe tbody tr th:only-of-type {\n",
              "        vertical-align: middle;\n",
              "    }\n",
              "\n",
              "    .dataframe tbody tr th {\n",
              "        vertical-align: top;\n",
              "    }\n",
              "\n",
              "    .dataframe thead th {\n",
              "        text-align: right;\n",
              "    }\n",
              "</style>\n",
              "<table border=\"1\" class=\"dataframe\">\n",
              "  <thead>\n",
              "    <tr style=\"text-align: right;\">\n",
              "      <th></th>\n",
              "      <th>id</th>\n",
              "      <th>title</th>\n",
              "      <th>genres</th>\n",
              "      <th>popularity</th>\n",
              "      <th>rating</th>\n",
              "      <th>vote_count</th>\n",
              "      <th>cast</th>\n",
              "    </tr>\n",
              "  </thead>\n",
              "  <tbody>\n",
              "    <tr>\n",
              "      <th>546</th>\n",
              "      <td>211672</td>\n",
              "      <td>Minions</td>\n",
              "      <td>[{\"id\": 10751, \"name\": \"Family\"}, {\"id\": 16, \"...</td>\n",
              "      <td>875.581305</td>\n",
              "      <td>6.4</td>\n",
              "      <td>4571</td>\n",
              "      <td>[{\"cast_id\": 22, \"character\": \"Scarlet Overkil...</td>\n",
              "    </tr>\n",
              "    <tr>\n",
              "      <th>95</th>\n",
              "      <td>157336</td>\n",
              "      <td>Interstellar</td>\n",
              "      <td>[{\"id\": 12, \"name\": \"Adventure\"}, {\"id\": 18, \"...</td>\n",
              "      <td>724.247784</td>\n",
              "      <td>8.1</td>\n",
              "      <td>10867</td>\n",
              "      <td>[{\"cast_id\": 9, \"character\": \"Joseph Cooper\", ...</td>\n",
              "    </tr>\n",
              "    <tr>\n",
              "      <th>788</th>\n",
              "      <td>293660</td>\n",
              "      <td>Deadpool</td>\n",
              "      <td>[{\"id\": 28, \"name\": \"Action\"}, {\"id\": 12, \"nam...</td>\n",
              "      <td>514.569956</td>\n",
              "      <td>7.4</td>\n",
              "      <td>10995</td>\n",
              "      <td>[{\"cast_id\": 99, \"character\": \"Wade Wilson / D...</td>\n",
              "    </tr>\n",
              "    <tr>\n",
              "      <th>94</th>\n",
              "      <td>118340</td>\n",
              "      <td>Guardians of the Galaxy</td>\n",
              "      <td>[{\"id\": 28, \"name\": \"Action\"}, {\"id\": 878, \"na...</td>\n",
              "      <td>481.098624</td>\n",
              "      <td>7.9</td>\n",
              "      <td>9742</td>\n",
              "      <td>[{\"cast_id\": 1, \"character\": \"Peter Quill / St...</td>\n",
              "    </tr>\n",
              "    <tr>\n",
              "      <th>127</th>\n",
              "      <td>76341</td>\n",
              "      <td>Mad Max: Fury Road</td>\n",
              "      <td>[{\"id\": 28, \"name\": \"Action\"}, {\"id\": 12, \"nam...</td>\n",
              "      <td>434.278564</td>\n",
              "      <td>7.2</td>\n",
              "      <td>9427</td>\n",
              "      <td>[{\"cast_id\": 2, \"character\": \"Max Rockatansky\"...</td>\n",
              "    </tr>\n",
              "    <tr>\n",
              "      <th>28</th>\n",
              "      <td>135397</td>\n",
              "      <td>Jurassic World</td>\n",
              "      <td>[{\"id\": 28, \"name\": \"Action\"}, {\"id\": 12, \"nam...</td>\n",
              "      <td>418.708552</td>\n",
              "      <td>6.5</td>\n",
              "      <td>8662</td>\n",
              "      <td>[{\"cast_id\": 10, \"character\": \"Owen Grady\", \"c...</td>\n",
              "    </tr>\n",
              "    <tr>\n",
              "      <th>199</th>\n",
              "      <td>22</td>\n",
              "      <td>Pirates of the Caribbean: The Curse of the Bla...</td>\n",
              "      <td>[{\"id\": 12, \"name\": \"Adventure\"}, {\"id\": 14, \"...</td>\n",
              "      <td>271.972889</td>\n",
              "      <td>7.5</td>\n",
              "      <td>6985</td>\n",
              "      <td>[{\"cast_id\": 12, \"character\": \"Captain Jack Sp...</td>\n",
              "    </tr>\n",
              "    <tr>\n",
              "      <th>82</th>\n",
              "      <td>119450</td>\n",
              "      <td>Dawn of the Planet of the Apes</td>\n",
              "      <td>[{\"id\": 878, \"name\": \"Science Fiction\"}, {\"id\"...</td>\n",
              "      <td>243.791743</td>\n",
              "      <td>7.3</td>\n",
              "      <td>4410</td>\n",
              "      <td>[{\"cast_id\": 8, \"character\": \"Caesar\", \"credit...</td>\n",
              "    </tr>\n",
              "    <tr>\n",
              "      <th>200</th>\n",
              "      <td>131631</td>\n",
              "      <td>The Hunger Games: Mockingjay - Part 1</td>\n",
              "      <td>[{\"id\": 878, \"name\": \"Science Fiction\"}, {\"id\"...</td>\n",
              "      <td>206.227151</td>\n",
              "      <td>6.6</td>\n",
              "      <td>5584</td>\n",
              "      <td>[{\"cast_id\": 2, \"character\": \"Katniss Everdeen...</td>\n",
              "    </tr>\n",
              "    <tr>\n",
              "      <th>88</th>\n",
              "      <td>177572</td>\n",
              "      <td>Big Hero 6</td>\n",
              "      <td>[{\"id\": 12, \"name\": \"Adventure\"}, {\"id\": 10751...</td>\n",
              "      <td>203.734590</td>\n",
              "      <td>7.8</td>\n",
              "      <td>6135</td>\n",
              "      <td>[{\"cast_id\": 23, \"character\": \"Baymax (voice)\"...</td>\n",
              "    </tr>\n",
              "  </tbody>\n",
              "</table>\n",
              "</div>"
            ],
            "text/plain": [
              "         id  ...                                               cast\n",
              "546  211672  ...  [{\"cast_id\": 22, \"character\": \"Scarlet Overkil...\n",
              "95   157336  ...  [{\"cast_id\": 9, \"character\": \"Joseph Cooper\", ...\n",
              "788  293660  ...  [{\"cast_id\": 99, \"character\": \"Wade Wilson / D...\n",
              "94   118340  ...  [{\"cast_id\": 1, \"character\": \"Peter Quill / St...\n",
              "127   76341  ...  [{\"cast_id\": 2, \"character\": \"Max Rockatansky\"...\n",
              "28   135397  ...  [{\"cast_id\": 10, \"character\": \"Owen Grady\", \"c...\n",
              "199      22  ...  [{\"cast_id\": 12, \"character\": \"Captain Jack Sp...\n",
              "82   119450  ...  [{\"cast_id\": 8, \"character\": \"Caesar\", \"credit...\n",
              "200  131631  ...  [{\"cast_id\": 2, \"character\": \"Katniss Everdeen...\n",
              "88   177572  ...  [{\"cast_id\": 23, \"character\": \"Baymax (voice)\"...\n",
              "\n",
              "[10 rows x 7 columns]"
            ]
          },
          "metadata": {
            "tags": []
          },
          "execution_count": 15
        }
      ]
    },
    {
      "cell_type": "markdown",
      "metadata": {
        "id": "UmOuCkVlLB9S"
      },
      "source": [
        "###Top 10 highest rated movies"
      ]
    },
    {
      "cell_type": "markdown",
      "metadata": {
        "id": "1IgyzuJpPqu1"
      },
      "source": [
        "Now lets look at the top 10 movies with highest rating among movies with vote_count greater than the threshold"
      ]
    },
    {
      "cell_type": "code",
      "metadata": {
        "colab": {
          "base_uri": "https://localhost:8080/",
          "height": 343
        },
        "id": "BhYov4O-LFW7",
        "outputId": "55c205d0-b6d9-4bc1-d808-7dcc44a6176f"
      },
      "source": [
        "top_rated=list(movies[movies['vote_count']>threshold_vote].nlargest(10,'rating').loc[:,'title'])\n",
        "movies[movies['vote_count']>threshold_vote].nlargest(10,'rating')"
      ],
      "execution_count": null,
      "outputs": [
        {
          "output_type": "execute_result",
          "data": {
            "text/html": [
              "<div>\n",
              "<style scoped>\n",
              "    .dataframe tbody tr th:only-of-type {\n",
              "        vertical-align: middle;\n",
              "    }\n",
              "\n",
              "    .dataframe tbody tr th {\n",
              "        vertical-align: top;\n",
              "    }\n",
              "\n",
              "    .dataframe thead th {\n",
              "        text-align: right;\n",
              "    }\n",
              "</style>\n",
              "<table border=\"1\" class=\"dataframe\">\n",
              "  <thead>\n",
              "    <tr style=\"text-align: right;\">\n",
              "      <th></th>\n",
              "      <th>id</th>\n",
              "      <th>title</th>\n",
              "      <th>genres</th>\n",
              "      <th>popularity</th>\n",
              "      <th>rating</th>\n",
              "      <th>vote_count</th>\n",
              "      <th>cast</th>\n",
              "    </tr>\n",
              "  </thead>\n",
              "  <tbody>\n",
              "    <tr>\n",
              "      <th>1881</th>\n",
              "      <td>278</td>\n",
              "      <td>The Shawshank Redemption</td>\n",
              "      <td>[{\"id\": 18, \"name\": \"Drama\"}, {\"id\": 80, \"name...</td>\n",
              "      <td>136.747729</td>\n",
              "      <td>8.5</td>\n",
              "      <td>8205</td>\n",
              "      <td>[{\"cast_id\": 3, \"character\": \"Andy Dufresne\", ...</td>\n",
              "    </tr>\n",
              "    <tr>\n",
              "      <th>3337</th>\n",
              "      <td>238</td>\n",
              "      <td>The Godfather</td>\n",
              "      <td>[{\"id\": 18, \"name\": \"Drama\"}, {\"id\": 80, \"name...</td>\n",
              "      <td>143.659698</td>\n",
              "      <td>8.4</td>\n",
              "      <td>5893</td>\n",
              "      <td>[{\"cast_id\": 5, \"character\": \"Don Vito Corleon...</td>\n",
              "    </tr>\n",
              "    <tr>\n",
              "      <th>662</th>\n",
              "      <td>550</td>\n",
              "      <td>Fight Club</td>\n",
              "      <td>[{\"id\": 18, \"name\": \"Drama\"}]</td>\n",
              "      <td>146.757391</td>\n",
              "      <td>8.3</td>\n",
              "      <td>9413</td>\n",
              "      <td>[{\"cast_id\": 4, \"character\": \"The Narrator\", \"...</td>\n",
              "    </tr>\n",
              "    <tr>\n",
              "      <th>1818</th>\n",
              "      <td>424</td>\n",
              "      <td>Schindler's List</td>\n",
              "      <td>[{\"id\": 18, \"name\": \"Drama\"}, {\"id\": 36, \"name...</td>\n",
              "      <td>104.469351</td>\n",
              "      <td>8.3</td>\n",
              "      <td>4329</td>\n",
              "      <td>[{\"cast_id\": 14, \"character\": \"Oskar Schindler...</td>\n",
              "    </tr>\n",
              "    <tr>\n",
              "      <th>2294</th>\n",
              "      <td>129</td>\n",
              "      <td>Spirited Away</td>\n",
              "      <td>[{\"id\": 14, \"name\": \"Fantasy\"}, {\"id\": 12, \"na...</td>\n",
              "      <td>118.968562</td>\n",
              "      <td>8.3</td>\n",
              "      <td>3840</td>\n",
              "      <td>[{\"cast_id\": 3, \"character\": \"Chihiro (voice)\"...</td>\n",
              "    </tr>\n",
              "    <tr>\n",
              "      <th>2731</th>\n",
              "      <td>240</td>\n",
              "      <td>The Godfather: Part II</td>\n",
              "      <td>[{\"id\": 18, \"name\": \"Drama\"}, {\"id\": 80, \"name...</td>\n",
              "      <td>105.792936</td>\n",
              "      <td>8.3</td>\n",
              "      <td>3338</td>\n",
              "      <td>[{\"cast_id\": 8, \"character\": \"Don Michael Corl...</td>\n",
              "    </tr>\n",
              "    <tr>\n",
              "      <th>3232</th>\n",
              "      <td>680</td>\n",
              "      <td>Pulp Fiction</td>\n",
              "      <td>[{\"id\": 53, \"name\": \"Thriller\"}, {\"id\": 80, \"n...</td>\n",
              "      <td>121.463076</td>\n",
              "      <td>8.3</td>\n",
              "      <td>8428</td>\n",
              "      <td>[{\"cast_id\": 2, \"character\": \"Vincent Vega\", \"...</td>\n",
              "    </tr>\n",
              "    <tr>\n",
              "      <th>3865</th>\n",
              "      <td>244786</td>\n",
              "      <td>Whiplash</td>\n",
              "      <td>[{\"id\": 18, \"name\": \"Drama\"}]</td>\n",
              "      <td>192.528841</td>\n",
              "      <td>8.3</td>\n",
              "      <td>4254</td>\n",
              "      <td>[{\"cast_id\": 5, \"character\": \"Andrew Neimann\",...</td>\n",
              "    </tr>\n",
              "    <tr>\n",
              "      <th>65</th>\n",
              "      <td>155</td>\n",
              "      <td>The Dark Knight</td>\n",
              "      <td>[{\"id\": 18, \"name\": \"Drama\"}, {\"id\": 28, \"name...</td>\n",
              "      <td>187.322927</td>\n",
              "      <td>8.2</td>\n",
              "      <td>12002</td>\n",
              "      <td>[{\"cast_id\": 35, \"character\": \"Bruce Wayne\", \"...</td>\n",
              "    </tr>\n",
              "    <tr>\n",
              "      <th>690</th>\n",
              "      <td>497</td>\n",
              "      <td>The Green Mile</td>\n",
              "      <td>[{\"id\": 14, \"name\": \"Fantasy\"}, {\"id\": 18, \"na...</td>\n",
              "      <td>103.698022</td>\n",
              "      <td>8.2</td>\n",
              "      <td>4048</td>\n",
              "      <td>[{\"cast_id\": 4, \"character\": \"Paul Edgecomb\", ...</td>\n",
              "    </tr>\n",
              "  </tbody>\n",
              "</table>\n",
              "</div>"
            ],
            "text/plain": [
              "          id  ...                                               cast\n",
              "1881     278  ...  [{\"cast_id\": 3, \"character\": \"Andy Dufresne\", ...\n",
              "3337     238  ...  [{\"cast_id\": 5, \"character\": \"Don Vito Corleon...\n",
              "662      550  ...  [{\"cast_id\": 4, \"character\": \"The Narrator\", \"...\n",
              "1818     424  ...  [{\"cast_id\": 14, \"character\": \"Oskar Schindler...\n",
              "2294     129  ...  [{\"cast_id\": 3, \"character\": \"Chihiro (voice)\"...\n",
              "2731     240  ...  [{\"cast_id\": 8, \"character\": \"Don Michael Corl...\n",
              "3232     680  ...  [{\"cast_id\": 2, \"character\": \"Vincent Vega\", \"...\n",
              "3865  244786  ...  [{\"cast_id\": 5, \"character\": \"Andrew Neimann\",...\n",
              "65       155  ...  [{\"cast_id\": 35, \"character\": \"Bruce Wayne\", \"...\n",
              "690      497  ...  [{\"cast_id\": 4, \"character\": \"Paul Edgecomb\", ...\n",
              "\n",
              "[10 rows x 7 columns]"
            ]
          },
          "metadata": {
            "tags": []
          },
          "execution_count": 16
        }
      ]
    },
    {
      "cell_type": "markdown",
      "metadata": {
        "id": "9xSJ5cpMLGt_"
      },
      "source": [
        "###Top movies in different genres"
      ]
    },
    {
      "cell_type": "code",
      "metadata": {
        "id": "f05rSpYpLPU6"
      },
      "source": [
        "def check_genre(top_genre,genres):\n",
        "  for genre in genres:\n",
        "    if(genre[\"name\"]==top_genre):\n",
        "      return True\n",
        "  return False\n",
        "\n",
        "top_genre={}\n",
        "#Let's look at common genres & let's recommend 3 movies for each genres\n",
        "allGenres={}\n",
        "for row_id in range(movies.shape[0]):\n",
        "  genres=get_genres(movies.loc[row_id,\"genres\"])\n",
        "  for genre in genres:\n",
        "    if genre[\"name\"] in allGenres.keys():\n",
        "      allGenres[genre[\"name\"]]+=1\n",
        "    else:\n",
        "      allGenres[genre[\"name\"]]=1\n",
        "\n",
        "#If say there are over 10% movies of a particluar genre let's call that a common genre\n",
        "#for each common genre let's choose top 3 based on the ratings\n",
        "\n",
        "for key,val in allGenres.items():\n",
        "  if(val>movies.shape[0]/10):\n",
        "    top_genre[key]=[]\n",
        "\n",
        "for genre in top_genre.keys():\n",
        "  top_in_genre=[]\n",
        "  for row_id in range(movies.shape[0]):\n",
        "    if(check_genre(genre,get_genres(movies.loc[row_id,\"genres\"]))):\n",
        "      if(len(top_in_genre)<3):\n",
        "        top_in_genre.append((row_id,movies.loc[row_id,\"rating\"]))\n",
        "      else:\n",
        "        if(top_in_genre[-1][1]<movies.loc[row_id,\"rating\"]):\n",
        "          top_in_genre.pop()\n",
        "          top_in_genre.append((row_id,movies.loc[row_id,\"rating\"]))\n",
        "      sorted(top_in_genre,key=lambda x:x[1],reverse=True)\n",
        "  top_genre[genre].append(movies.loc[top_in_genre[2][0],\"title\"])\n",
        "  top_genre[genre].append(movies.loc[top_in_genre[1][0],\"title\"])\n",
        "  top_genre[genre].append(movies.loc[top_in_genre[0][0],\"title\"])"
      ],
      "execution_count": null,
      "outputs": []
    },
    {
      "cell_type": "markdown",
      "metadata": {
        "id": "6Zbuu2XIXLZa"
      },
      "source": [
        "Lets visualize the number of movies in each genre"
      ]
    },
    {
      "cell_type": "code",
      "metadata": {
        "colab": {
          "base_uri": "https://localhost:8080/",
          "height": 653
        },
        "id": "mhiIDnvoVPi2",
        "outputId": "1665f448-d438-4eba-e010-c5e865e092de"
      },
      "source": [
        "X=[]\r\n",
        "y=[]\r\n",
        "for genre,n_movies in allGenres.items():\r\n",
        "  if(n_movies>300):\r\n",
        "    X.append(genre)\r\n",
        "    y.append(n_movies)\r\n",
        "plt.figure(figsize=(16,10))\r\n",
        "plt.bar(X,y,color='green')\r\n",
        "plt.xlabel(\"genre\",fontsize=20)\r\n",
        "plt.ylabel(\"num_movies\",fontsize=20)\r\n",
        "plt.title(\"Number of movies in each genre\",fontsize=20)"
      ],
      "execution_count": null,
      "outputs": [
        {
          "output_type": "execute_result",
          "data": {
            "text/plain": [
              "Text(0.5, 1.0, 'Number of movies in each genre')"
            ]
          },
          "metadata": {
            "tags": []
          },
          "execution_count": 21
        },
        {
          "output_type": "display_data",
          "data": {
            "image/png": "[encoded data removed]",
            "text/plain": [
              "<Figure size 1152x720 with 1 Axes>"
            ]
          },
          "metadata": {
            "tags": [],
            "needs_background": "light"
          }
        }
      ]
    },
    {
      "cell_type": "markdown",
      "metadata": {
        "id": "29_TqMCdXqhD"
      },
      "source": [
        "Most of the movies are drama,comedy and all others have substantial number of movies"
      ]
    },
    {
      "cell_type": "markdown",
      "metadata": {
        "id": "MWMto3kiLQV4"
      },
      "source": [
        "###Top movies of popular actors"
      ]
    },
    {
      "cell_type": "code",
      "metadata": {
        "id": "F-j_bqJqLVHf"
      },
      "source": [
        "def check_actor(top_actor,cast):\n",
        "  for actor in cast:\n",
        "    if(actor[\"name\"]==top_actor):\n",
        "      return True\n",
        "  return False\n",
        "\n",
        "top_actors={}\n",
        "#Let's look at 10 top actors(based on number of movies they were a part of) & let's recommend 2 movies for each actor\n",
        "allActors={}\n",
        "for row_id in range(movies.shape[0]):\n",
        "  cast=get_cast(movies.loc[row_id,\"cast\"])\n",
        "  for actor in cast:\n",
        "    if actor[\"name\"] in allActors.keys():\n",
        "      allActors[actor[\"name\"]]+=1\n",
        "    else:\n",
        "      allActors[actor[\"name\"]]=1\n",
        "\n",
        "allActors.pop('.')    #remove all movies without caste\n",
        "top_actors_list=[i[0] for i in sorted(allActors.items(),key=lambda x:x[1],reverse=True)[:10]]\n",
        "\n",
        "for actor in top_actors_list:\n",
        "  top_actors[actor]=[]\n",
        "\n",
        "for actor in top_actors.keys():\n",
        "  top_in_actor=[]\n",
        "  for row_id in range(movies.shape[0]):\n",
        "    if(check_actor(actor,get_cast(movies.loc[row_id,\"cast\"]))):\n",
        "      if(len(top_in_actor)<3):\n",
        "        top_in_actor.append((row_id,movies.loc[row_id,\"rating\"]))\n",
        "      else:\n",
        "        if(top_in_actor[-1][1]<movies.loc[row_id,\"rating\"]):\n",
        "          top_in_actor.pop()\n",
        "          top_in_actor.append((row_id,movies.loc[row_id,\"rating\"]))\n",
        "      sorted(top_in_actor,key=lambda x:x[1],reverse=True)\n",
        "  top_actors[actor].append(movies.loc[top_in_actor[1][0],\"title\"])\n",
        "  top_actors[actor].append(movies.loc[top_in_actor[0][0],\"title\"])"
      ],
      "execution_count": null,
      "outputs": []
    },
    {
      "cell_type": "markdown",
      "metadata": {
        "id": "NhH5wmABQ_O5"
      },
      "source": [
        "##Final demographic recommendations"
      ]
    },
    {
      "cell_type": "code",
      "metadata": {
        "colab": {
          "base_uri": "https://localhost:8080/"
        },
        "id": "CQ_D4pvIREaG",
        "outputId": "b0096b10-cf99-421f-faf6-1cffd9847124"
      },
      "source": [
        "print(\"***POPULAR PICKS***\")\n",
        "for idx,movie in enumerate(popular_picks):\n",
        "  print(idx+1,movie)\n",
        "print('\\n',\"****TOP RATED****\")\n",
        "for idx,movie in enumerate(top_rated):\n",
        "  print(idx+1,movie)\n",
        "print('\\n',\"**BEST ACROSS GENRES**\")\n",
        "for genre,movies in top_genre.items():\n",
        "  print(\"------>\",genre)\n",
        "  for idx,movie in enumerate(movies):\n",
        "    print(idx+1,movie)\n",
        "print('\\n',\"**MOVIES OF TOP ACTORS**\")\n",
        "for actor,movies in top_actors.items():\n",
        "  print(\"------>\",actor)\n",
        "  for idx,movie in enumerate(movies):\n",
        "    print(idx+1,movie)"
      ],
      "execution_count": null,
      "outputs": [
        {
          "output_type": "stream",
          "text": [
            "***POPULAR PICKS***\n",
            "1 Minions\n",
            "2 Interstellar\n",
            "3 Deadpool\n",
            "4 Guardians of the Galaxy\n",
            "5 Mad Max: Fury Road\n",
            "6 Jurassic World\n",
            "7 Pirates of the Caribbean: The Curse of the Black Pearl\n",
            "8 Dawn of the Planet of the Apes\n",
            "9 The Hunger Games: Mockingjay - Part 1\n",
            "10 Big Hero 6\n",
            "\n",
            " ****TOP RATED****\n",
            "1 The Shawshank Redemption\n",
            "2 The Godfather\n",
            "3 Fight Club\n",
            "4 Schindler's List\n",
            "5 Spirited Away\n",
            "6 The Godfather: Part II\n",
            "7 Pulp Fiction\n",
            "8 Whiplash\n",
            "9 The Dark Knight\n",
            "10 The Green Mile\n",
            "\n",
            " **BEST ACROSS GENRES**\n",
            "------> Action\n",
            "1 One Man's Hero\n",
            "2 Pirates of the Caribbean: At World's End\n",
            "3 Avatar\n",
            "------> Adventure\n",
            "1 The Prisoner of Zenda\n",
            "2 Pirates of the Caribbean: At World's End\n",
            "3 Avatar\n",
            "------> Science Fiction\n",
            "1 The Empire Strikes Back\n",
            "2 John Carter\n",
            "3 Avatar\n",
            "------> Crime\n",
            "1 The Shawshank Redemption\n",
            "2 The Dark Knight Rises\n",
            "3 Spectre\n",
            "------> Drama\n",
            "1 Dancer, Texas Pop. 81\n",
            "2 King Kong\n",
            "3 The Dark Knight Rises\n",
            "------> Thriller\n",
            "1 Pulp Fiction\n",
            "2 Quantum of Solace\n",
            "3 The Dark Knight Rises\n",
            "------> Family\n",
            "1 Dancer, Texas Pop. 81\n",
            "2 Harry Potter and the Half-Blood Prince\n",
            "3 Tangled\n",
            "------> Comedy\n",
            "1 Stiff Upper Lips\n",
            "2 Cars 2\n",
            "3 Men in Black 3\n",
            "------> Romance\n",
            "1 Me You and Five Bucks\n",
            "2 The Great Gatsby\n",
            "3 Titanic\n",
            "------> Horror\n",
            "1 Psycho\n",
            "2 Shin Godzilla\n",
            "3 World War Z\n",
            "\n",
            " **MOVIES OF TOP ACTORS**\n",
            "------> Samuel L. Jackson\n",
            "1 The Avengers\n",
            "2 Avengers: Age of Ultron\n",
            "------> Robert De Niro\n",
            "1 Arthur and the Invisibles\n",
            "2 Little Fockers\n",
            "------> Bruce Willis\n",
            "1 G.I. Joe: Retaliation\n",
            "2 Armageddon\n",
            "------> Matt Damon\n",
            "1 Happy Feet Two\n",
            "2 Interstellar\n",
            "------> Morgan Freeman\n",
            "1 The Dark Knight\n",
            "2 The Dark Knight Rises\n",
            "------> Steve Buscemi\n",
            "1 G-Force\n",
            "2 Monsters University\n",
            "------> Liam Neeson\n",
            "1 The Chronicles of Narnia: Prince Caspian\n",
            "2 The Dark Knight Rises\n",
            "------> Johnny Depp\n",
            "1 Pirates of the Caribbean: Dead Man's Chest\n",
            "2 Pirates of the Caribbean: At World's End\n",
            "------> Owen Wilson\n",
            "1 Night at the Museum: Battle of the Smithsonian\n",
            "2 Cars 2\n",
            "------> John Goodman\n",
            "1 Transformers: Age of Extinction\n",
            "2 Monsters University\n"
          ],
          "name": "stdout"
        }
      ]
    },
    {
      "cell_type": "code",
      "metadata": {
        "id": "o3LdxOFaRdui"
      },
      "source": [
        ""
      ],
      "execution_count": null,
      "outputs": []
    }
  ]
}