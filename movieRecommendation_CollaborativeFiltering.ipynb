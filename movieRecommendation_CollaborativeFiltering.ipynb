{
  "nbformat": 4,
  "nbformat_minor": 0,
  "metadata": {
    "colab": {
      "name": "movieRecommendation_CollaborativeFiltering.ipynb",
      "provenance": [],
      "collapsed_sections": [],
      "toc_visible": true
    },
    "kernelspec": {
      "name": "python3",
      "display_name": "Python 3"
    }
  },
  "cells": [
    {
      "cell_type": "markdown",
      "metadata": {
        "id": "A-3PfSMLXEm7"
      },
      "source": [
        "#Collaborative filtering"
      ]
    },
    {
      "cell_type": "markdown",
      "metadata": {
        "id": "Vy7ZQJMc1nFO"
      },
      "source": [
        "###Collaborative filtering looks at similarity between users instead of focusing on similarity of content like content based filtering\r\n",
        "###For example:2 users have given similar ratings to a few movies,so we can recommend movies rated highly by one person to another"
      ]
    },
    {
      "cell_type": "markdown",
      "metadata": {
        "id": "wLY4X4PNXOmy"
      },
      "source": [
        "##Importing libraries and a loading the dataset\n"
      ]
    },
    {
      "cell_type": "code",
      "metadata": {
        "colab": {
          "base_uri": "https://localhost:8080/"
        },
        "id": "madAj6NNWySe",
        "outputId": "09b36b03-2b0f-4e91-f597-564d1725cabc"
      },
      "source": [
        "from google.colab import drive\n",
        "drive.mount('/content/drive')"
      ],
      "execution_count": null,
      "outputs": [
        {
          "output_type": "stream",
          "text": [
            "Drive already mounted at /content/drive; to attempt to forcibly remount, call drive.mount(\"/content/drive\", force_remount=True).\n"
          ],
          "name": "stdout"
        }
      ]
    },
    {
      "cell_type": "code",
      "metadata": {
        "colab": {
          "base_uri": "https://localhost:8080/",
          "height": 296
        },
        "id": "RaAYlj9jXWws",
        "outputId": "9134b64e-1e6c-4cf7-b80a-57070ca43db8"
      },
      "source": [
        "%matplotlib inline\n",
        "import pandas as pd\n",
        "import numpy as np\n",
        "import matplotlib.pyplot as plt\n",
        "import seaborn as sns\n",
        "!pip install surprise\n",
        "#Surprise is a library with tools like singular-value decomposition,KNN for recommender systems\n",
        "from surprise import Reader\n",
        "from surprise import Dataset\n",
        "from surprise.model_selection import cross_validate\n",
        "from surprise import KNNBaseline\n",
        "from surprise import SVD\n",
        "from surprise.accuracy import rmse\n",
        "from surprise import accuracy\n",
        "from surprise.model_selection import train_test_split\n",
        "#Enter the appropriate file path for the datasets\n",
        "movies=pd.read_csv(\"/content/drive/MyDrive/movies_data/tmdb_5000_movies.csv/tmdb_5000_movies.csv\")\n",
        "credits=pd.read_csv(\"/content/drive/MyDrive/movies_data/tmdb_5000_credits.csv/tmdb_5000_credits.csv\")\n",
        "#rename movie-id to id so as to merge both on the id\n",
        "credits.rename(columns={\"movie_id\":\"id\"},inplace=True)\n",
        "movies= movies.merge(credits,on='id')\n",
        "relevant_cols=[\"id\",\"title_x\",\"genres\",\"popularity\",\"vote_average\",\"vote_count\",\"cast\"]\n",
        "movies=movies.loc[:,relevant_cols]\n",
        "movies.rename(columns={\"title_x\":\"title\",\"vote_average\":\"rating\"},inplace=True)\n",
        "ratings=pd.read_csv(\"/content/drive/MyDrive/ratings_small.csv/ratings_small.csv\")\n",
        "ratings.head()"
      ],
      "execution_count": null,
      "outputs": [
        {
          "output_type": "stream",
          "text": [
            "Requirement already satisfied: surprise in /usr/local/lib/python3.6/dist-packages (0.1)\n",
            "Requirement already satisfied: scikit-surprise in /usr/local/lib/python3.6/dist-packages (from surprise) (1.1.1)\n",
            "Requirement already satisfied: numpy>=1.11.2 in /usr/local/lib/python3.6/dist-packages (from scikit-surprise->surprise) (1.18.5)\n",
            "Requirement already satisfied: scipy>=1.0.0 in /usr/local/lib/python3.6/dist-packages (from scikit-surprise->surprise) (1.4.1)\n",
            "Requirement already satisfied: joblib>=0.11 in /usr/local/lib/python3.6/dist-packages (from scikit-surprise->surprise) (0.17.0)\n",
            "Requirement already satisfied: six>=1.10.0 in /usr/local/lib/python3.6/dist-packages (from scikit-surprise->surprise) (1.15.0)\n"
          ],
          "name": "stdout"
        },
        {
          "output_type": "execute_result",
          "data": {
            "text/html": [
              "<div>\n",
              "<style scoped>\n",
              "    .dataframe tbody tr th:only-of-type {\n",
              "        vertical-align: middle;\n",
              "    }\n",
              "\n",
              "    .dataframe tbody tr th {\n",
              "        vertical-align: top;\n",
              "    }\n",
              "\n",
              "    .dataframe thead th {\n",
              "        text-align: right;\n",
              "    }\n",
              "</style>\n",
              "<table border=\"1\" class=\"dataframe\">\n",
              "  <thead>\n",
              "    <tr style=\"text-align: right;\">\n",
              "      <th></th>\n",
              "      <th>userId</th>\n",
              "      <th>movieId</th>\n",
              "      <th>rating</th>\n",
              "      <th>timestamp</th>\n",
              "    </tr>\n",
              "  </thead>\n",
              "  <tbody>\n",
              "    <tr>\n",
              "      <th>0</th>\n",
              "      <td>1</td>\n",
              "      <td>31</td>\n",
              "      <td>2.5</td>\n",
              "      <td>1260759144</td>\n",
              "    </tr>\n",
              "    <tr>\n",
              "      <th>1</th>\n",
              "      <td>1</td>\n",
              "      <td>1029</td>\n",
              "      <td>3.0</td>\n",
              "      <td>1260759179</td>\n",
              "    </tr>\n",
              "    <tr>\n",
              "      <th>2</th>\n",
              "      <td>1</td>\n",
              "      <td>1061</td>\n",
              "      <td>3.0</td>\n",
              "      <td>1260759182</td>\n",
              "    </tr>\n",
              "    <tr>\n",
              "      <th>3</th>\n",
              "      <td>1</td>\n",
              "      <td>1129</td>\n",
              "      <td>2.0</td>\n",
              "      <td>1260759185</td>\n",
              "    </tr>\n",
              "    <tr>\n",
              "      <th>4</th>\n",
              "      <td>1</td>\n",
              "      <td>1172</td>\n",
              "      <td>4.0</td>\n",
              "      <td>1260759205</td>\n",
              "    </tr>\n",
              "  </tbody>\n",
              "</table>\n",
              "</div>"
            ],
            "text/plain": [
              "   userId  movieId  rating   timestamp\n",
              "0       1       31     2.5  1260759144\n",
              "1       1     1029     3.0  1260759179\n",
              "2       1     1061     3.0  1260759182\n",
              "3       1     1129     2.0  1260759185\n",
              "4       1     1172     4.0  1260759205"
            ]
          },
          "metadata": {
            "tags": []
          },
          "execution_count": 25
        }
      ]
    },
    {
      "cell_type": "markdown",
      "metadata": {
        "id": "qqMuyhst0daU"
      },
      "source": [
        "Basically the ratings dataset has ratings of each user for the movies he has watched and we attempt to predict the ratings he would give to unseen movies by using singular value decomposition or KNN"
      ]
    },
    {
      "cell_type": "code",
      "metadata": {
        "colab": {
          "base_uri": "https://localhost:8080/"
        },
        "id": "WMp0UMMdsAFs",
        "outputId": "e504c318-70ef-46e9-94d6-f456ca9a5bd1"
      },
      "source": [
        "print(\"The total number of ratings is:\",ratings.shape[0])"
      ],
      "execution_count": null,
      "outputs": [
        {
          "output_type": "stream",
          "text": [
            "The total number of ratings is: 100004\n"
          ],
          "name": "stdout"
        }
      ]
    },
    {
      "cell_type": "markdown",
      "metadata": {
        "id": "6qAXHDeqsVZE"
      },
      "source": [
        "Basically,each user has assigned ratings to movies he had watched &there is a timestamp to understand which movie was viewed first"
      ]
    },
    {
      "cell_type": "code",
      "metadata": {
        "colab": {
          "base_uri": "https://localhost:8080/"
        },
        "id": "bnpEAnresTwb",
        "outputId": "d45d2c7b-1a0a-426e-cc05-c98ab46f7a23"
      },
      "source": [
        "print(\"The number of unique viewers is:\",ratings.describe().loc[\"max\",\"userId\"])"
      ],
      "execution_count": null,
      "outputs": [
        {
          "output_type": "stream",
          "text": [
            "The number of unique viewers is: 671.0\n"
          ],
          "name": "stdout"
        }
      ]
    },
    {
      "cell_type": "code",
      "metadata": {
        "colab": {
          "base_uri": "https://localhost:8080/"
        },
        "id": "MUemHVPDskg8",
        "outputId": "eba7c4e7-ae79-4ad6-f66f-2edce7258d22"
      },
      "source": [
        "print(\"Average ratings per viewer:\",ratings.shape[0]/ratings.describe().loc[\"max\",\"userId\"])"
      ],
      "execution_count": null,
      "outputs": [
        {
          "output_type": "stream",
          "text": [
            "Average ratings per viewer: 149.03725782414307\n"
          ],
          "name": "stdout"
        }
      ]
    },
    {
      "cell_type": "markdown",
      "metadata": {
        "id": "dsiwLt3UwjQU"
      },
      "source": [
        "###Lets visualize the number of user ratings for each movie"
      ]
    },
    {
      "cell_type": "code",
      "metadata": {
        "colab": {
          "base_uri": "https://localhost:8080/",
          "height": 296
        },
        "id": "i47wkdqcwhkW",
        "outputId": "de04500e-6c2e-46a4-fd1d-8d2d6443536b"
      },
      "source": [
        "sns.histplot(ratings[\"movieId\"].value_counts(),bins=50)"
      ],
      "execution_count": null,
      "outputs": [
        {
          "output_type": "execute_result",
          "data": {
            "text/plain": [
              "<matplotlib.axes._subplots.AxesSubplot at 0x7f816ba3bcc0>"
            ]
          },
          "metadata": {
            "tags": []
          },
          "execution_count": 29
        },
        {
          "output_type": "display_data",
          "data": {
            "image/png": "[encoded data removed]",
            "text/plain": [
              "<Figure size 432x288 with 1 Axes>"
            ]
          },
          "metadata": {
            "tags": [],
            "needs_background": "light"
          }
        }
      ]
    },
    {
      "cell_type": "markdown",
      "metadata": {
        "id": "Xo1_fUgzyW_V"
      },
      "source": [
        "First 10 movies have 6000 ratings next 10 have 1000 and thereafter there very less number of ratings which shows the movieIds ar somewhat in decreasing order of popularity"
      ]
    },
    {
      "cell_type": "markdown",
      "metadata": {
        "id": "sdPo2TyMwrEK"
      },
      "source": [
        "###Lets visualize the number of ratings given by each viewer"
      ]
    },
    {
      "cell_type": "code",
      "metadata": {
        "colab": {
          "base_uri": "https://localhost:8080/",
          "height": 296
        },
        "id": "2Rk9N-hYsoeH",
        "outputId": "edac0584-d6bd-4a75-b19a-8fe34f710b07"
      },
      "source": [
        "#Lets visulaize the number of ratings per voter i.e. a histogram\r\n",
        "sns.histplot(ratings.loc[:,\"userId\"].value_counts(),bins=50)"
      ],
      "execution_count": null,
      "outputs": [
        {
          "output_type": "execute_result",
          "data": {
            "text/plain": [
              "<matplotlib.axes._subplots.AxesSubplot at 0x7f8167d314a8>"
            ]
          },
          "metadata": {
            "tags": []
          },
          "execution_count": 30
        },
        {
          "output_type": "display_data",
          "data": {
            "image/png": "[encoded data removed]",
            "text/plain": [
              "<Figure size 432x288 with 1 Axes>"
            ]
          },
          "metadata": {
            "tags": [],
            "needs_background": "light"
          }
        }
      ]
    },
    {
      "cell_type": "markdown",
      "metadata": {
        "id": "V0fxOQEZsyqz"
      },
      "source": [
        "Most of them have watched about 100 movies & almost all have watched less 500 movies except a few outliers"
      ]
    },
    {
      "cell_type": "markdown",
      "metadata": {
        "id": "lkuN_RpXs3y4"
      },
      "source": [
        "Lets ignore the timestamp assuming the viewers interests don't change with time(though this maybe the case as expectations increase after watching few good movies and maybe even a decent movie was giveen a bad rating but let's ignore this aspect)"
      ]
    },
    {
      "cell_type": "markdown",
      "metadata": {
        "id": "EoTpMImk27AG"
      },
      "source": [
        "##Using the Surprise library for collaborative filtering"
      ]
    },
    {
      "cell_type": "code",
      "metadata": {
        "id": "ssq725F_T4Co"
      },
      "source": [
        "#Create a reader object and fit it on our ratings dataset\r\n",
        "reader = Reader()\r\n",
        "data = Dataset.load_from_df(ratings[['userId', 'movieId', 'rating']], reader)"
      ],
      "execution_count": null,
      "outputs": []
    },
    {
      "cell_type": "code",
      "metadata": {
        "colab": {
          "base_uri": "https://localhost:8080/"
        },
        "id": "VTWXCu2TUpVQ",
        "outputId": "959a482a-a1a9-4636-e647-ffbdd81b4e92"
      },
      "source": [
        "#Perform SVD and KNN over the train set and test it over the test set and compare the test rmse\r\n",
        "benchmark = []\r\n",
        "# Iterate over all algorithms\r\n",
        "for algorithm in [SVD(), KNNBaseline()]:\r\n",
        "    # Perform cross validation\r\n",
        "    results = cross_validate(algorithm, data, measures=['RMSE'], cv=3, verbose=False)\r\n",
        "    \r\n",
        "    # Get results & append algorithm name\r\n",
        "    tmp = pd.DataFrame.from_dict(results).mean(axis=0)\r\n",
        "    tmp = tmp.append(pd.Series([str(algorithm).split(' ')[0].split('.')[-1]], index=['Algorithm']))\r\n",
        "    benchmark.append(tmp)"
      ],
      "execution_count": null,
      "outputs": [
        {
          "output_type": "stream",
          "text": [
            "Estimating biases using als...\n",
            "Computing the msd similarity matrix...\n",
            "Done computing similarity matrix.\n",
            "Estimating biases using als...\n",
            "Computing the msd similarity matrix...\n",
            "Done computing similarity matrix.\n",
            "Estimating biases using als...\n",
            "Computing the msd similarity matrix...\n",
            "Done computing similarity matrix.\n"
          ],
          "name": "stdout"
        }
      ]
    },
    {
      "cell_type": "code",
      "metadata": {
        "id": "uybbFdUuVDgH"
      },
      "source": [
        "surprise_results = pd.DataFrame(benchmark).set_index('Algorithm').sort_values('test_rmse')"
      ],
      "execution_count": null,
      "outputs": []
    },
    {
      "cell_type": "markdown",
      "metadata": {
        "id": "3zvhiewu2M84"
      },
      "source": [
        "###Lets look at the test rmse of SVD v/s KNN"
      ]
    },
    {
      "cell_type": "code",
      "metadata": {
        "colab": {
          "base_uri": "https://localhost:8080/",
          "height": 136
        },
        "id": "VF86gkuPVEmg",
        "outputId": "c9897222-6e14-40a2-aa75-908cb4fcd724"
      },
      "source": [
        "surprise_results"
      ],
      "execution_count": null,
      "outputs": [
        {
          "output_type": "execute_result",
          "data": {
            "text/html": [
              "<div>\n",
              "<style scoped>\n",
              "    .dataframe tbody tr th:only-of-type {\n",
              "        vertical-align: middle;\n",
              "    }\n",
              "\n",
              "    .dataframe tbody tr th {\n",
              "        vertical-align: top;\n",
              "    }\n",
              "\n",
              "    .dataframe thead th {\n",
              "        text-align: right;\n",
              "    }\n",
              "</style>\n",
              "<table border=\"1\" class=\"dataframe\">\n",
              "  <thead>\n",
              "    <tr style=\"text-align: right;\">\n",
              "      <th></th>\n",
              "      <th>test_rmse</th>\n",
              "      <th>fit_time</th>\n",
              "      <th>test_time</th>\n",
              "    </tr>\n",
              "    <tr>\n",
              "      <th>Algorithm</th>\n",
              "      <th></th>\n",
              "      <th></th>\n",
              "      <th></th>\n",
              "    </tr>\n",
              "  </thead>\n",
              "  <tbody>\n",
              "    <tr>\n",
              "      <th>SVD</th>\n",
              "      <td>0.902811</td>\n",
              "      <td>4.238530</td>\n",
              "      <td>0.352616</td>\n",
              "    </tr>\n",
              "    <tr>\n",
              "      <th>KNNBaseline</th>\n",
              "      <td>0.905869</td>\n",
              "      <td>0.356831</td>\n",
              "      <td>3.327022</td>\n",
              "    </tr>\n",
              "  </tbody>\n",
              "</table>\n",
              "</div>"
            ],
            "text/plain": [
              "             test_rmse  fit_time  test_time\n",
              "Algorithm                                  \n",
              "SVD           0.902811  4.238530   0.352616\n",
              "KNNBaseline   0.905869  0.356831   3.327022"
            ]
          },
          "metadata": {
            "tags": []
          },
          "execution_count": 34
        }
      ]
    },
    {
      "cell_type": "markdown",
      "metadata": {
        "id": "7s1zi8nf8PQf"
      },
      "source": [
        "###Lets perform SVD as its test_rmse is marginally lower"
      ]
    },
    {
      "cell_type": "code",
      "metadata": {
        "colab": {
          "base_uri": "https://localhost:8080/"
        },
        "id": "mskFkTuEWJkq",
        "outputId": "c4984966-526a-4143-d33d-8b907d274813"
      },
      "source": [
        "algo=SVD()\r\n",
        "cross_validate(algo, data, measures=['RMSE'], cv=3, verbose=False)"
      ],
      "execution_count": null,
      "outputs": [
        {
          "output_type": "execute_result",
          "data": {
            "text/plain": [
              "{'fit_time': (4.2115185260772705, 4.127397775650024, 4.175132513046265),\n",
              " 'test_rmse': array([0.90389001, 0.89836509, 0.90703296]),\n",
              " 'test_time': (0.24353861808776855, 0.39684605598449707, 0.24056053161621094)}"
            ]
          },
          "metadata": {
            "tags": []
          },
          "execution_count": 35
        }
      ]
    },
    {
      "cell_type": "markdown",
      "metadata": {
        "id": "HUAqe6Az8X6p"
      },
      "source": [
        "###Split the data into train and test sets and then predict the users ratings to unseen movies"
      ]
    },
    {
      "cell_type": "code",
      "metadata": {
        "colab": {
          "base_uri": "https://localhost:8080/"
        },
        "id": "bokBRRpAWba-",
        "outputId": "7c0ef983-6b01-45da-e492-08dff91b6b07"
      },
      "source": [
        "trainset, testset = train_test_split(data, test_size=0.25)\r\n",
        "algo = SVD()\r\n",
        "predictions = algo.fit(trainset).test(testset)\r\n",
        "accuracy.rmse(predictions)"
      ],
      "execution_count": null,
      "outputs": [
        {
          "output_type": "stream",
          "text": [
            "RMSE: 0.9015\n"
          ],
          "name": "stdout"
        },
        {
          "output_type": "execute_result",
          "data": {
            "text/plain": [
              "0.9015469839668682"
            ]
          },
          "metadata": {
            "tags": []
          },
          "execution_count": 36
        }
      ]
    },
    {
      "cell_type": "code",
      "metadata": {
        "id": "NRglgOWlWbLe"
      },
      "source": [
        "def get_Iu(uid):\r\n",
        "    \"\"\" return the number of items rated by given user\r\n",
        "    args: \r\n",
        "      uid: the id of the user\r\n",
        "    returns: \r\n",
        "      the number of items rated by the user\r\n",
        "    \"\"\"\r\n",
        "    try:\r\n",
        "        return len(trainset.ur[trainset.to_inner_uid(uid)])\r\n",
        "    except ValueError: # user was not part of the trainset\r\n",
        "        return 0\r\n",
        "    \r\n",
        "def get_Ui(iid):\r\n",
        "    \"\"\" return number of users that have rated given item\r\n",
        "    args:\r\n",
        "      iid: the raw id of the item\r\n",
        "    returns:\r\n",
        "      the number of users that have rated the item.\r\n",
        "    \"\"\"\r\n",
        "    try: \r\n",
        "        return len(trainset.ir[trainset.to_inner_iid(iid)])\r\n",
        "    except ValueError:\r\n",
        "        return 0\r\n",
        "    \r\n",
        "#Here,uid is user id,iid is movie id rui is rating ,est is estimated rating by this user to this movie\r\n",
        "df = pd.DataFrame(predictions, columns=['uid', 'iid', 'rui', 'est', 'details'])\r\n",
        "df['Iu'] = df.uid.apply(get_Iu)\r\n",
        "df['Ui'] = df.iid.apply(get_Ui)\r\n",
        "df['err'] = abs(df.est - df.rui)"
      ],
      "execution_count": null,
      "outputs": []
    },
    {
      "cell_type": "code",
      "metadata": {
        "id": "R2aeWUcoXLwB"
      },
      "source": [
        "df=df.sort_values(by='uid')"
      ],
      "execution_count": null,
      "outputs": []
    },
    {
      "cell_type": "code",
      "metadata": {
        "colab": {
          "base_uri": "https://localhost:8080/",
          "height": 195
        },
        "id": "y5zLWVmYXWm1",
        "outputId": "7669b597-2b57-46a4-ff9e-f721e94328df"
      },
      "source": [
        "df.head()"
      ],
      "execution_count": null,
      "outputs": [
        {
          "output_type": "execute_result",
          "data": {
            "text/html": [
              "<div>\n",
              "<style scoped>\n",
              "    .dataframe tbody tr th:only-of-type {\n",
              "        vertical-align: middle;\n",
              "    }\n",
              "\n",
              "    .dataframe tbody tr th {\n",
              "        vertical-align: top;\n",
              "    }\n",
              "\n",
              "    .dataframe thead th {\n",
              "        text-align: right;\n",
              "    }\n",
              "</style>\n",
              "<table border=\"1\" class=\"dataframe\">\n",
              "  <thead>\n",
              "    <tr style=\"text-align: right;\">\n",
              "      <th></th>\n",
              "      <th>uid</th>\n",
              "      <th>iid</th>\n",
              "      <th>rui</th>\n",
              "      <th>est</th>\n",
              "      <th>details</th>\n",
              "      <th>Iu</th>\n",
              "      <th>Ui</th>\n",
              "      <th>err</th>\n",
              "    </tr>\n",
              "  </thead>\n",
              "  <tbody>\n",
              "    <tr>\n",
              "      <th>3355</th>\n",
              "      <td>1</td>\n",
              "      <td>2193</td>\n",
              "      <td>2.0</td>\n",
              "      <td>2.379331</td>\n",
              "      <td>{'was_impossible': False}</td>\n",
              "      <td>16</td>\n",
              "      <td>31</td>\n",
              "      <td>0.379331</td>\n",
              "    </tr>\n",
              "    <tr>\n",
              "      <th>6444</th>\n",
              "      <td>1</td>\n",
              "      <td>1287</td>\n",
              "      <td>2.0</td>\n",
              "      <td>3.262897</td>\n",
              "      <td>{'was_impossible': False}</td>\n",
              "      <td>16</td>\n",
              "      <td>34</td>\n",
              "      <td>1.262897</td>\n",
              "    </tr>\n",
              "    <tr>\n",
              "      <th>2613</th>\n",
              "      <td>1</td>\n",
              "      <td>1263</td>\n",
              "      <td>2.0</td>\n",
              "      <td>3.157112</td>\n",
              "      <td>{'was_impossible': False}</td>\n",
              "      <td>16</td>\n",
              "      <td>41</td>\n",
              "      <td>1.157112</td>\n",
              "    </tr>\n",
              "    <tr>\n",
              "      <th>19804</th>\n",
              "      <td>1</td>\n",
              "      <td>3671</td>\n",
              "      <td>3.0</td>\n",
              "      <td>3.110735</td>\n",
              "      <td>{'was_impossible': False}</td>\n",
              "      <td>16</td>\n",
              "      <td>48</td>\n",
              "      <td>0.110735</td>\n",
              "    </tr>\n",
              "    <tr>\n",
              "      <th>2132</th>\n",
              "      <td>2</td>\n",
              "      <td>539</td>\n",
              "      <td>3.0</td>\n",
              "      <td>3.343706</td>\n",
              "      <td>{'was_impossible': False}</td>\n",
              "      <td>53</td>\n",
              "      <td>90</td>\n",
              "      <td>0.343706</td>\n",
              "    </tr>\n",
              "  </tbody>\n",
              "</table>\n",
              "</div>"
            ],
            "text/plain": [
              "       uid   iid  rui       est                    details  Iu  Ui       err\n",
              "3355     1  2193  2.0  2.379331  {'was_impossible': False}  16  31  0.379331\n",
              "6444     1  1287  2.0  3.262897  {'was_impossible': False}  16  34  1.262897\n",
              "2613     1  1263  2.0  3.157112  {'was_impossible': False}  16  41  1.157112\n",
              "19804    1  3671  3.0  3.110735  {'was_impossible': False}  16  48  0.110735\n",
              "2132     2   539  3.0  3.343706  {'was_impossible': False}  53  90  0.343706"
            ]
          },
          "metadata": {
            "tags": []
          },
          "execution_count": 39
        }
      ]
    },
    {
      "cell_type": "code",
      "metadata": {
        "colab": {
          "base_uri": "https://localhost:8080/"
        },
        "id": "qwYQs8EklMKh",
        "outputId": "dcc50d66-e25e-46fb-9b25-5de3e57f5fe1"
      },
      "source": [
        "algo.predict(1, 202, 3)"
      ],
      "execution_count": null,
      "outputs": [
        {
          "output_type": "execute_result",
          "data": {
            "text/plain": [
              "Prediction(uid=1, iid=202, r_ui=3, est=2.7248809645574545, details={'was_impossible': False})"
            ]
          },
          "metadata": {
            "tags": []
          },
          "execution_count": 40
        }
      ]
    },
    {
      "cell_type": "markdown",
      "metadata": {
        "id": "TYSjlIuc8wjA"
      },
      "source": [
        "##Get the top 10 recommendations from collaborative filtering"
      ]
    },
    {
      "cell_type": "code",
      "metadata": {
        "id": "3JJX_MQrpSlN"
      },
      "source": [
        "def get_top_10_recommendations(uid):\r\n",
        "  #Takes userId as input\r\n",
        "  #And then recommends top 10 movies with best estimated ratings\r\n",
        "  #Using SVD\r\n",
        "  estimated_ratings=np.zeros(4000)\r\n",
        "  for iid in range(4000):\r\n",
        "    estimated_ratings[iid]=algo.predict(uid,iid)[3]\r\n",
        "  top_indices=estimated_ratings.argsort()[-10:][::-1]\r\n",
        "  for idx in range(10):\r\n",
        "    print(movies.loc[top_indices[idx],'title'])"
      ],
      "execution_count": null,
      "outputs": []
    },
    {
      "cell_type": "markdown",
      "metadata": {
        "id": "QCl0giLE_vwI"
      },
      "source": [
        "Choose the viewer id to recommend movies to"
      ]
    },
    {
      "cell_type": "code",
      "metadata": {
        "id": "NjsRXqST9Ds6"
      },
      "source": [
        "id=348"
      ],
      "execution_count": null,
      "outputs": []
    },
    {
      "cell_type": "markdown",
      "metadata": {
        "id": "Mr3RJ69n9Fs_"
      },
      "source": [
        "Lets have a look at his recommended movies"
      ]
    },
    {
      "cell_type": "code",
      "metadata": {
        "colab": {
          "base_uri": "https://localhost:8080/"
        },
        "id": "pgn5GlR6rzpJ",
        "outputId": "c9a8aa75-e699-47cb-a2af-1bb63fe16ca4"
      },
      "source": [
        "get_top_10_recommendations(id)"
      ],
      "execution_count": null,
      "outputs": [
        {
          "output_type": "stream",
          "text": [
            "The Nutcracker\n",
            "Serial Mom\n",
            "Thinner\n",
            "The Postman Always Rings Twice\n",
            "Surf's Up\n",
            "The Counselor\n",
            "On the Line\n",
            "Assassins\n",
            "Basic Instinct 2\n",
            "The Gunman\n"
          ],
          "name": "stdout"
        }
      ]
    },
    {
      "cell_type": "markdown",
      "metadata": {
        "id": "mtH37AQoc7Zp"
      },
      "source": [
        "Most of them have watched about 100 movies & almost all have watched less 500 movies excpet a few outliers"
      ]
    },
    {
      "cell_type": "markdown",
      "metadata": {
        "id": "leHKrTwudK8F"
      },
      "source": [
        "Lets ignore the timestamp assuming the viewers interests don't change with time(though this maybe the case as expectations increase after watching few good movies and maybe even a decent movie was giveen a bad rating but let's ignore this aspect)"
      ]
    },
    {
      "cell_type": "code",
      "metadata": {
        "id": "bC0-ciXKQr1f"
      },
      "source": [
        ""
      ],
      "execution_count": null,
      "outputs": []
    }
  ]
}